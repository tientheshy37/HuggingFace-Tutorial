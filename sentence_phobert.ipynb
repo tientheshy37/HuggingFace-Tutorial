{
  "nbformat": 4,
  "nbformat_minor": 0,
  "metadata": {
    "colab": {
      "name": "sentence_phobert.ipynb",
      "provenance": []
    },
    "kernelspec": {
      "name": "python3",
      "display_name": "Python 3"
    },
    "language_info": {
      "name": "python"
    },
    "widgets": {
      "application/vnd.jupyter.widget-state+json": {
        "6f7bb2a07fda4d18850d4a2712d0e2a8": {
          "model_module": "@jupyter-widgets/controls",
          "model_name": "HBoxModel",
          "model_module_version": "1.5.0",
          "state": {
            "_view_name": "HBoxView",
            "_dom_classes": [],
            "_model_name": "HBoxModel",
            "_view_module": "@jupyter-widgets/controls",
            "_model_module_version": "1.5.0",
            "_view_count": null,
            "_view_module_version": "1.5.0",
            "box_style": "",
            "layout": "IPY_MODEL_c5eb2cbb105740f6a3237a81f47a2180",
            "_model_module": "@jupyter-widgets/controls",
            "children": [
              "IPY_MODEL_d1ac6fa7e6e241dcab2f3cd1c938308f",
              "IPY_MODEL_983ef3737e4b4723b91955112da4d04f",
              "IPY_MODEL_a4c373841e9443f9a0caebcb65ec4cad"
            ]
          }
        },
        "c5eb2cbb105740f6a3237a81f47a2180": {
          "model_module": "@jupyter-widgets/base",
          "model_name": "LayoutModel",
          "model_module_version": "1.2.0",
          "state": {
            "_view_name": "LayoutView",
            "grid_template_rows": null,
            "right": null,
            "justify_content": null,
            "_view_module": "@jupyter-widgets/base",
            "overflow": null,
            "_model_module_version": "1.2.0",
            "_view_count": null,
            "flex_flow": null,
            "width": null,
            "min_width": null,
            "border": null,
            "align_items": null,
            "bottom": null,
            "_model_module": "@jupyter-widgets/base",
            "top": null,
            "grid_column": null,
            "overflow_y": null,
            "overflow_x": null,
            "grid_auto_flow": null,
            "grid_area": null,
            "grid_template_columns": null,
            "flex": null,
            "_model_name": "LayoutModel",
            "justify_items": null,
            "grid_row": null,
            "max_height": null,
            "align_content": null,
            "visibility": null,
            "align_self": null,
            "height": null,
            "min_height": null,
            "padding": null,
            "grid_auto_rows": null,
            "grid_gap": null,
            "max_width": null,
            "order": null,
            "_view_module_version": "1.2.0",
            "grid_template_areas": null,
            "object_position": null,
            "object_fit": null,
            "grid_auto_columns": null,
            "margin": null,
            "display": null,
            "left": null
          }
        },
        "d1ac6fa7e6e241dcab2f3cd1c938308f": {
          "model_module": "@jupyter-widgets/controls",
          "model_name": "HTMLModel",
          "model_module_version": "1.5.0",
          "state": {
            "_view_name": "HTMLView",
            "style": "IPY_MODEL_0878a09a328e4512afd748af4c8c8913",
            "_dom_classes": [],
            "description": "",
            "_model_name": "HTMLModel",
            "placeholder": "​",
            "_view_module": "@jupyter-widgets/controls",
            "_model_module_version": "1.5.0",
            "value": "Downloading: 100%",
            "_view_count": null,
            "_view_module_version": "1.5.0",
            "description_tooltip": null,
            "_model_module": "@jupyter-widgets/controls",
            "layout": "IPY_MODEL_616b93efb8ba4ac2a126070f416eff85"
          }
        },
        "983ef3737e4b4723b91955112da4d04f": {
          "model_module": "@jupyter-widgets/controls",
          "model_name": "FloatProgressModel",
          "model_module_version": "1.5.0",
          "state": {
            "_view_name": "ProgressView",
            "style": "IPY_MODEL_1112164674354a67903a6642aeb33806",
            "_dom_classes": [],
            "description": "",
            "_model_name": "FloatProgressModel",
            "bar_style": "success",
            "max": 391,
            "_view_module": "@jupyter-widgets/controls",
            "_model_module_version": "1.5.0",
            "value": 391,
            "_view_count": null,
            "_view_module_version": "1.5.0",
            "orientation": "horizontal",
            "min": 0,
            "description_tooltip": null,
            "_model_module": "@jupyter-widgets/controls",
            "layout": "IPY_MODEL_b4549573126543af91bb48176ee4ee1f"
          }
        },
        "a4c373841e9443f9a0caebcb65ec4cad": {
          "model_module": "@jupyter-widgets/controls",
          "model_name": "HTMLModel",
          "model_module_version": "1.5.0",
          "state": {
            "_view_name": "HTMLView",
            "style": "IPY_MODEL_e1fb6043d48b49c0a8043e4659b343ba",
            "_dom_classes": [],
            "description": "",
            "_model_name": "HTMLModel",
            "placeholder": "​",
            "_view_module": "@jupyter-widgets/controls",
            "_model_module_version": "1.5.0",
            "value": " 391/391 [00:00&lt;00:00, 2.82kB/s]",
            "_view_count": null,
            "_view_module_version": "1.5.0",
            "description_tooltip": null,
            "_model_module": "@jupyter-widgets/controls",
            "layout": "IPY_MODEL_efd6d7cb8939418aa844385aaf94376b"
          }
        },
        "0878a09a328e4512afd748af4c8c8913": {
          "model_module": "@jupyter-widgets/controls",
          "model_name": "DescriptionStyleModel",
          "model_module_version": "1.5.0",
          "state": {
            "_view_name": "StyleView",
            "_model_name": "DescriptionStyleModel",
            "description_width": "",
            "_view_module": "@jupyter-widgets/base",
            "_model_module_version": "1.5.0",
            "_view_count": null,
            "_view_module_version": "1.2.0",
            "_model_module": "@jupyter-widgets/controls"
          }
        },
        "616b93efb8ba4ac2a126070f416eff85": {
          "model_module": "@jupyter-widgets/base",
          "model_name": "LayoutModel",
          "model_module_version": "1.2.0",
          "state": {
            "_view_name": "LayoutView",
            "grid_template_rows": null,
            "right": null,
            "justify_content": null,
            "_view_module": "@jupyter-widgets/base",
            "overflow": null,
            "_model_module_version": "1.2.0",
            "_view_count": null,
            "flex_flow": null,
            "width": null,
            "min_width": null,
            "border": null,
            "align_items": null,
            "bottom": null,
            "_model_module": "@jupyter-widgets/base",
            "top": null,
            "grid_column": null,
            "overflow_y": null,
            "overflow_x": null,
            "grid_auto_flow": null,
            "grid_area": null,
            "grid_template_columns": null,
            "flex": null,
            "_model_name": "LayoutModel",
            "justify_items": null,
            "grid_row": null,
            "max_height": null,
            "align_content": null,
            "visibility": null,
            "align_self": null,
            "height": null,
            "min_height": null,
            "padding": null,
            "grid_auto_rows": null,
            "grid_gap": null,
            "max_width": null,
            "order": null,
            "_view_module_version": "1.2.0",
            "grid_template_areas": null,
            "object_position": null,
            "object_fit": null,
            "grid_auto_columns": null,
            "margin": null,
            "display": null,
            "left": null
          }
        },
        "1112164674354a67903a6642aeb33806": {
          "model_module": "@jupyter-widgets/controls",
          "model_name": "ProgressStyleModel",
          "model_module_version": "1.5.0",
          "state": {
            "_view_name": "StyleView",
            "_model_name": "ProgressStyleModel",
            "description_width": "",
            "_view_module": "@jupyter-widgets/base",
            "_model_module_version": "1.5.0",
            "_view_count": null,
            "_view_module_version": "1.2.0",
            "bar_color": null,
            "_model_module": "@jupyter-widgets/controls"
          }
        },
        "b4549573126543af91bb48176ee4ee1f": {
          "model_module": "@jupyter-widgets/base",
          "model_name": "LayoutModel",
          "model_module_version": "1.2.0",
          "state": {
            "_view_name": "LayoutView",
            "grid_template_rows": null,
            "right": null,
            "justify_content": null,
            "_view_module": "@jupyter-widgets/base",
            "overflow": null,
            "_model_module_version": "1.2.0",
            "_view_count": null,
            "flex_flow": null,
            "width": null,
            "min_width": null,
            "border": null,
            "align_items": null,
            "bottom": null,
            "_model_module": "@jupyter-widgets/base",
            "top": null,
            "grid_column": null,
            "overflow_y": null,
            "overflow_x": null,
            "grid_auto_flow": null,
            "grid_area": null,
            "grid_template_columns": null,
            "flex": null,
            "_model_name": "LayoutModel",
            "justify_items": null,
            "grid_row": null,
            "max_height": null,
            "align_content": null,
            "visibility": null,
            "align_self": null,
            "height": null,
            "min_height": null,
            "padding": null,
            "grid_auto_rows": null,
            "grid_gap": null,
            "max_width": null,
            "order": null,
            "_view_module_version": "1.2.0",
            "grid_template_areas": null,
            "object_position": null,
            "object_fit": null,
            "grid_auto_columns": null,
            "margin": null,
            "display": null,
            "left": null
          }
        },
        "e1fb6043d48b49c0a8043e4659b343ba": {
          "model_module": "@jupyter-widgets/controls",
          "model_name": "DescriptionStyleModel",
          "model_module_version": "1.5.0",
          "state": {
            "_view_name": "StyleView",
            "_model_name": "DescriptionStyleModel",
            "description_width": "",
            "_view_module": "@jupyter-widgets/base",
            "_model_module_version": "1.5.0",
            "_view_count": null,
            "_view_module_version": "1.2.0",
            "_model_module": "@jupyter-widgets/controls"
          }
        },
        "efd6d7cb8939418aa844385aaf94376b": {
          "model_module": "@jupyter-widgets/base",
          "model_name": "LayoutModel",
          "model_module_version": "1.2.0",
          "state": {
            "_view_name": "LayoutView",
            "grid_template_rows": null,
            "right": null,
            "justify_content": null,
            "_view_module": "@jupyter-widgets/base",
            "overflow": null,
            "_model_module_version": "1.2.0",
            "_view_count": null,
            "flex_flow": null,
            "width": null,
            "min_width": null,
            "border": null,
            "align_items": null,
            "bottom": null,
            "_model_module": "@jupyter-widgets/base",
            "top": null,
            "grid_column": null,
            "overflow_y": null,
            "overflow_x": null,
            "grid_auto_flow": null,
            "grid_area": null,
            "grid_template_columns": null,
            "flex": null,
            "_model_name": "LayoutModel",
            "justify_items": null,
            "grid_row": null,
            "max_height": null,
            "align_content": null,
            "visibility": null,
            "align_self": null,
            "height": null,
            "min_height": null,
            "padding": null,
            "grid_auto_rows": null,
            "grid_gap": null,
            "max_width": null,
            "order": null,
            "_view_module_version": "1.2.0",
            "grid_template_areas": null,
            "object_position": null,
            "object_fit": null,
            "grid_auto_columns": null,
            "margin": null,
            "display": null,
            "left": null
          }
        },
        "78124d7d91214632a216ddc543a64edf": {
          "model_module": "@jupyter-widgets/controls",
          "model_name": "HBoxModel",
          "model_module_version": "1.5.0",
          "state": {
            "_view_name": "HBoxView",
            "_dom_classes": [],
            "_model_name": "HBoxModel",
            "_view_module": "@jupyter-widgets/controls",
            "_model_module_version": "1.5.0",
            "_view_count": null,
            "_view_module_version": "1.5.0",
            "box_style": "",
            "layout": "IPY_MODEL_1a7d71d4fd8c48208487aac52d886e16",
            "_model_module": "@jupyter-widgets/controls",
            "children": [
              "IPY_MODEL_52e43d0b023e4777bff0db45b949d7d4",
              "IPY_MODEL_cf10f7e261ba4515a35babefa8706756",
              "IPY_MODEL_2ef80be4d3b242cba741ab568abbc219"
            ]
          }
        },
        "1a7d71d4fd8c48208487aac52d886e16": {
          "model_module": "@jupyter-widgets/base",
          "model_name": "LayoutModel",
          "model_module_version": "1.2.0",
          "state": {
            "_view_name": "LayoutView",
            "grid_template_rows": null,
            "right": null,
            "justify_content": null,
            "_view_module": "@jupyter-widgets/base",
            "overflow": null,
            "_model_module_version": "1.2.0",
            "_view_count": null,
            "flex_flow": null,
            "width": null,
            "min_width": null,
            "border": null,
            "align_items": null,
            "bottom": null,
            "_model_module": "@jupyter-widgets/base",
            "top": null,
            "grid_column": null,
            "overflow_y": null,
            "overflow_x": null,
            "grid_auto_flow": null,
            "grid_area": null,
            "grid_template_columns": null,
            "flex": null,
            "_model_name": "LayoutModel",
            "justify_items": null,
            "grid_row": null,
            "max_height": null,
            "align_content": null,
            "visibility": null,
            "align_self": null,
            "height": null,
            "min_height": null,
            "padding": null,
            "grid_auto_rows": null,
            "grid_gap": null,
            "max_width": null,
            "order": null,
            "_view_module_version": "1.2.0",
            "grid_template_areas": null,
            "object_position": null,
            "object_fit": null,
            "grid_auto_columns": null,
            "margin": null,
            "display": null,
            "left": null
          }
        },
        "52e43d0b023e4777bff0db45b949d7d4": {
          "model_module": "@jupyter-widgets/controls",
          "model_name": "HTMLModel",
          "model_module_version": "1.5.0",
          "state": {
            "_view_name": "HTMLView",
            "style": "IPY_MODEL_bfd0c4b17f9043ea873f29dee50e18a8",
            "_dom_classes": [],
            "description": "",
            "_model_name": "HTMLModel",
            "placeholder": "​",
            "_view_module": "@jupyter-widgets/controls",
            "_model_module_version": "1.5.0",
            "value": "Downloading: 100%",
            "_view_count": null,
            "_view_module_version": "1.5.0",
            "description_tooltip": null,
            "_model_module": "@jupyter-widgets/controls",
            "layout": "IPY_MODEL_d252bfc0b54f4e939a3221de4c406e3c"
          }
        },
        "cf10f7e261ba4515a35babefa8706756": {
          "model_module": "@jupyter-widgets/controls",
          "model_name": "FloatProgressModel",
          "model_module_version": "1.5.0",
          "state": {
            "_view_name": "ProgressView",
            "style": "IPY_MODEL_19ecae2cc68c46a3a61a54b99457357b",
            "_dom_classes": [],
            "description": "",
            "_model_name": "FloatProgressModel",
            "bar_style": "success",
            "max": 2602,
            "_view_module": "@jupyter-widgets/controls",
            "_model_module_version": "1.5.0",
            "value": 2602,
            "_view_count": null,
            "_view_module_version": "1.5.0",
            "orientation": "horizontal",
            "min": 0,
            "description_tooltip": null,
            "_model_module": "@jupyter-widgets/controls",
            "layout": "IPY_MODEL_7357a07cd533418983f4308db0cab3c9"
          }
        },
        "2ef80be4d3b242cba741ab568abbc219": {
          "model_module": "@jupyter-widgets/controls",
          "model_name": "HTMLModel",
          "model_module_version": "1.5.0",
          "state": {
            "_view_name": "HTMLView",
            "style": "IPY_MODEL_6158949e9159429e9aa1a6832f11c222",
            "_dom_classes": [],
            "description": "",
            "_model_name": "HTMLModel",
            "placeholder": "​",
            "_view_module": "@jupyter-widgets/controls",
            "_model_module_version": "1.5.0",
            "value": " 2.60k/2.60k [00:00&lt;00:00, 7.01kB/s]",
            "_view_count": null,
            "_view_module_version": "1.5.0",
            "description_tooltip": null,
            "_model_module": "@jupyter-widgets/controls",
            "layout": "IPY_MODEL_6271620550ff4c22be4848df12e7d6d3"
          }
        },
        "bfd0c4b17f9043ea873f29dee50e18a8": {
          "model_module": "@jupyter-widgets/controls",
          "model_name": "DescriptionStyleModel",
          "model_module_version": "1.5.0",
          "state": {
            "_view_name": "StyleView",
            "_model_name": "DescriptionStyleModel",
            "description_width": "",
            "_view_module": "@jupyter-widgets/base",
            "_model_module_version": "1.5.0",
            "_view_count": null,
            "_view_module_version": "1.2.0",
            "_model_module": "@jupyter-widgets/controls"
          }
        },
        "d252bfc0b54f4e939a3221de4c406e3c": {
          "model_module": "@jupyter-widgets/base",
          "model_name": "LayoutModel",
          "model_module_version": "1.2.0",
          "state": {
            "_view_name": "LayoutView",
            "grid_template_rows": null,
            "right": null,
            "justify_content": null,
            "_view_module": "@jupyter-widgets/base",
            "overflow": null,
            "_model_module_version": "1.2.0",
            "_view_count": null,
            "flex_flow": null,
            "width": null,
            "min_width": null,
            "border": null,
            "align_items": null,
            "bottom": null,
            "_model_module": "@jupyter-widgets/base",
            "top": null,
            "grid_column": null,
            "overflow_y": null,
            "overflow_x": null,
            "grid_auto_flow": null,
            "grid_area": null,
            "grid_template_columns": null,
            "flex": null,
            "_model_name": "LayoutModel",
            "justify_items": null,
            "grid_row": null,
            "max_height": null,
            "align_content": null,
            "visibility": null,
            "align_self": null,
            "height": null,
            "min_height": null,
            "padding": null,
            "grid_auto_rows": null,
            "grid_gap": null,
            "max_width": null,
            "order": null,
            "_view_module_version": "1.2.0",
            "grid_template_areas": null,
            "object_position": null,
            "object_fit": null,
            "grid_auto_columns": null,
            "margin": null,
            "display": null,
            "left": null
          }
        },
        "19ecae2cc68c46a3a61a54b99457357b": {
          "model_module": "@jupyter-widgets/controls",
          "model_name": "ProgressStyleModel",
          "model_module_version": "1.5.0",
          "state": {
            "_view_name": "StyleView",
            "_model_name": "ProgressStyleModel",
            "description_width": "",
            "_view_module": "@jupyter-widgets/base",
            "_model_module_version": "1.5.0",
            "_view_count": null,
            "_view_module_version": "1.2.0",
            "bar_color": null,
            "_model_module": "@jupyter-widgets/controls"
          }
        },
        "7357a07cd533418983f4308db0cab3c9": {
          "model_module": "@jupyter-widgets/base",
          "model_name": "LayoutModel",
          "model_module_version": "1.2.0",
          "state": {
            "_view_name": "LayoutView",
            "grid_template_rows": null,
            "right": null,
            "justify_content": null,
            "_view_module": "@jupyter-widgets/base",
            "overflow": null,
            "_model_module_version": "1.2.0",
            "_view_count": null,
            "flex_flow": null,
            "width": null,
            "min_width": null,
            "border": null,
            "align_items": null,
            "bottom": null,
            "_model_module": "@jupyter-widgets/base",
            "top": null,
            "grid_column": null,
            "overflow_y": null,
            "overflow_x": null,
            "grid_auto_flow": null,
            "grid_area": null,
            "grid_template_columns": null,
            "flex": null,
            "_model_name": "LayoutModel",
            "justify_items": null,
            "grid_row": null,
            "max_height": null,
            "align_content": null,
            "visibility": null,
            "align_self": null,
            "height": null,
            "min_height": null,
            "padding": null,
            "grid_auto_rows": null,
            "grid_gap": null,
            "max_width": null,
            "order": null,
            "_view_module_version": "1.2.0",
            "grid_template_areas": null,
            "object_position": null,
            "object_fit": null,
            "grid_auto_columns": null,
            "margin": null,
            "display": null,
            "left": null
          }
        },
        "6158949e9159429e9aa1a6832f11c222": {
          "model_module": "@jupyter-widgets/controls",
          "model_name": "DescriptionStyleModel",
          "model_module_version": "1.5.0",
          "state": {
            "_view_name": "StyleView",
            "_model_name": "DescriptionStyleModel",
            "description_width": "",
            "_view_module": "@jupyter-widgets/base",
            "_model_module_version": "1.5.0",
            "_view_count": null,
            "_view_module_version": "1.2.0",
            "_model_module": "@jupyter-widgets/controls"
          }
        },
        "6271620550ff4c22be4848df12e7d6d3": {
          "model_module": "@jupyter-widgets/base",
          "model_name": "LayoutModel",
          "model_module_version": "1.2.0",
          "state": {
            "_view_name": "LayoutView",
            "grid_template_rows": null,
            "right": null,
            "justify_content": null,
            "_view_module": "@jupyter-widgets/base",
            "overflow": null,
            "_model_module_version": "1.2.0",
            "_view_count": null,
            "flex_flow": null,
            "width": null,
            "min_width": null,
            "border": null,
            "align_items": null,
            "bottom": null,
            "_model_module": "@jupyter-widgets/base",
            "top": null,
            "grid_column": null,
            "overflow_y": null,
            "overflow_x": null,
            "grid_auto_flow": null,
            "grid_area": null,
            "grid_template_columns": null,
            "flex": null,
            "_model_name": "LayoutModel",
            "justify_items": null,
            "grid_row": null,
            "max_height": null,
            "align_content": null,
            "visibility": null,
            "align_self": null,
            "height": null,
            "min_height": null,
            "padding": null,
            "grid_auto_rows": null,
            "grid_gap": null,
            "max_width": null,
            "order": null,
            "_view_module_version": "1.2.0",
            "grid_template_areas": null,
            "object_position": null,
            "object_fit": null,
            "grid_auto_columns": null,
            "margin": null,
            "display": null,
            "left": null
          }
        },
        "17e2ab5a17464f8e8e71aa77c4228a68": {
          "model_module": "@jupyter-widgets/controls",
          "model_name": "HBoxModel",
          "model_module_version": "1.5.0",
          "state": {
            "_view_name": "HBoxView",
            "_dom_classes": [],
            "_model_name": "HBoxModel",
            "_view_module": "@jupyter-widgets/controls",
            "_model_module_version": "1.5.0",
            "_view_count": null,
            "_view_module_version": "1.5.0",
            "box_style": "",
            "layout": "IPY_MODEL_5e5540aa490e44c19892aef9f5088f19",
            "_model_module": "@jupyter-widgets/controls",
            "children": [
              "IPY_MODEL_ca08af88fad145168129f7ddaa0fb8f8",
              "IPY_MODEL_dc4ca4be73b04f8c9d67423cb8d79679",
              "IPY_MODEL_af0de1e9edbb4417b2c05b87b3c5ce13"
            ]
          }
        },
        "5e5540aa490e44c19892aef9f5088f19": {
          "model_module": "@jupyter-widgets/base",
          "model_name": "LayoutModel",
          "model_module_version": "1.2.0",
          "state": {
            "_view_name": "LayoutView",
            "grid_template_rows": null,
            "right": null,
            "justify_content": null,
            "_view_module": "@jupyter-widgets/base",
            "overflow": null,
            "_model_module_version": "1.2.0",
            "_view_count": null,
            "flex_flow": null,
            "width": null,
            "min_width": null,
            "border": null,
            "align_items": null,
            "bottom": null,
            "_model_module": "@jupyter-widgets/base",
            "top": null,
            "grid_column": null,
            "overflow_y": null,
            "overflow_x": null,
            "grid_auto_flow": null,
            "grid_area": null,
            "grid_template_columns": null,
            "flex": null,
            "_model_name": "LayoutModel",
            "justify_items": null,
            "grid_row": null,
            "max_height": null,
            "align_content": null,
            "visibility": null,
            "align_self": null,
            "height": null,
            "min_height": null,
            "padding": null,
            "grid_auto_rows": null,
            "grid_gap": null,
            "max_width": null,
            "order": null,
            "_view_module_version": "1.2.0",
            "grid_template_areas": null,
            "object_position": null,
            "object_fit": null,
            "grid_auto_columns": null,
            "margin": null,
            "display": null,
            "left": null
          }
        },
        "ca08af88fad145168129f7ddaa0fb8f8": {
          "model_module": "@jupyter-widgets/controls",
          "model_name": "HTMLModel",
          "model_module_version": "1.5.0",
          "state": {
            "_view_name": "HTMLView",
            "style": "IPY_MODEL_dec9803841024c8ebbeb890b40d09cb9",
            "_dom_classes": [],
            "description": "",
            "_model_name": "HTMLModel",
            "placeholder": "​",
            "_view_module": "@jupyter-widgets/controls",
            "_model_module_version": "1.5.0",
            "value": "Downloading: 100%",
            "_view_count": null,
            "_view_module_version": "1.5.0",
            "description_tooltip": null,
            "_model_module": "@jupyter-widgets/controls",
            "layout": "IPY_MODEL_9392edca6df444c5bda61a98da8be923"
          }
        },
        "dc4ca4be73b04f8c9d67423cb8d79679": {
          "model_module": "@jupyter-widgets/controls",
          "model_name": "FloatProgressModel",
          "model_module_version": "1.5.0",
          "state": {
            "_view_name": "ProgressView",
            "style": "IPY_MODEL_d2f52b7cb66b41c88b1f18ceb252a6c6",
            "_dom_classes": [],
            "description": "",
            "_model_name": "FloatProgressModel",
            "bar_style": "success",
            "max": 1135173,
            "_view_module": "@jupyter-widgets/controls",
            "_model_module_version": "1.5.0",
            "value": 1135173,
            "_view_count": null,
            "_view_module_version": "1.5.0",
            "orientation": "horizontal",
            "min": 0,
            "description_tooltip": null,
            "_model_module": "@jupyter-widgets/controls",
            "layout": "IPY_MODEL_b5dbe99ff7b34153bebe9080a760dc9f"
          }
        },
        "af0de1e9edbb4417b2c05b87b3c5ce13": {
          "model_module": "@jupyter-widgets/controls",
          "model_name": "HTMLModel",
          "model_module_version": "1.5.0",
          "state": {
            "_view_name": "HTMLView",
            "style": "IPY_MODEL_9b44ec66cf7e4b2a8de24326692af3df",
            "_dom_classes": [],
            "description": "",
            "_model_name": "HTMLModel",
            "placeholder": "​",
            "_view_module": "@jupyter-widgets/controls",
            "_model_module_version": "1.5.0",
            "value": " 1.14M/1.14M [00:00&lt;00:00, 1.44MB/s]",
            "_view_count": null,
            "_view_module_version": "1.5.0",
            "description_tooltip": null,
            "_model_module": "@jupyter-widgets/controls",
            "layout": "IPY_MODEL_0b5251fd58564f1daab22f4e8dabac9c"
          }
        },
        "dec9803841024c8ebbeb890b40d09cb9": {
          "model_module": "@jupyter-widgets/controls",
          "model_name": "DescriptionStyleModel",
          "model_module_version": "1.5.0",
          "state": {
            "_view_name": "StyleView",
            "_model_name": "DescriptionStyleModel",
            "description_width": "",
            "_view_module": "@jupyter-widgets/base",
            "_model_module_version": "1.5.0",
            "_view_count": null,
            "_view_module_version": "1.2.0",
            "_model_module": "@jupyter-widgets/controls"
          }
        },
        "9392edca6df444c5bda61a98da8be923": {
          "model_module": "@jupyter-widgets/base",
          "model_name": "LayoutModel",
          "model_module_version": "1.2.0",
          "state": {
            "_view_name": "LayoutView",
            "grid_template_rows": null,
            "right": null,
            "justify_content": null,
            "_view_module": "@jupyter-widgets/base",
            "overflow": null,
            "_model_module_version": "1.2.0",
            "_view_count": null,
            "flex_flow": null,
            "width": null,
            "min_width": null,
            "border": null,
            "align_items": null,
            "bottom": null,
            "_model_module": "@jupyter-widgets/base",
            "top": null,
            "grid_column": null,
            "overflow_y": null,
            "overflow_x": null,
            "grid_auto_flow": null,
            "grid_area": null,
            "grid_template_columns": null,
            "flex": null,
            "_model_name": "LayoutModel",
            "justify_items": null,
            "grid_row": null,
            "max_height": null,
            "align_content": null,
            "visibility": null,
            "align_self": null,
            "height": null,
            "min_height": null,
            "padding": null,
            "grid_auto_rows": null,
            "grid_gap": null,
            "max_width": null,
            "order": null,
            "_view_module_version": "1.2.0",
            "grid_template_areas": null,
            "object_position": null,
            "object_fit": null,
            "grid_auto_columns": null,
            "margin": null,
            "display": null,
            "left": null
          }
        },
        "d2f52b7cb66b41c88b1f18ceb252a6c6": {
          "model_module": "@jupyter-widgets/controls",
          "model_name": "ProgressStyleModel",
          "model_module_version": "1.5.0",
          "state": {
            "_view_name": "StyleView",
            "_model_name": "ProgressStyleModel",
            "description_width": "",
            "_view_module": "@jupyter-widgets/base",
            "_model_module_version": "1.5.0",
            "_view_count": null,
            "_view_module_version": "1.2.0",
            "bar_color": null,
            "_model_module": "@jupyter-widgets/controls"
          }
        },
        "b5dbe99ff7b34153bebe9080a760dc9f": {
          "model_module": "@jupyter-widgets/base",
          "model_name": "LayoutModel",
          "model_module_version": "1.2.0",
          "state": {
            "_view_name": "LayoutView",
            "grid_template_rows": null,
            "right": null,
            "justify_content": null,
            "_view_module": "@jupyter-widgets/base",
            "overflow": null,
            "_model_module_version": "1.2.0",
            "_view_count": null,
            "flex_flow": null,
            "width": null,
            "min_width": null,
            "border": null,
            "align_items": null,
            "bottom": null,
            "_model_module": "@jupyter-widgets/base",
            "top": null,
            "grid_column": null,
            "overflow_y": null,
            "overflow_x": null,
            "grid_auto_flow": null,
            "grid_area": null,
            "grid_template_columns": null,
            "flex": null,
            "_model_name": "LayoutModel",
            "justify_items": null,
            "grid_row": null,
            "max_height": null,
            "align_content": null,
            "visibility": null,
            "align_self": null,
            "height": null,
            "min_height": null,
            "padding": null,
            "grid_auto_rows": null,
            "grid_gap": null,
            "max_width": null,
            "order": null,
            "_view_module_version": "1.2.0",
            "grid_template_areas": null,
            "object_position": null,
            "object_fit": null,
            "grid_auto_columns": null,
            "margin": null,
            "display": null,
            "left": null
          }
        },
        "9b44ec66cf7e4b2a8de24326692af3df": {
          "model_module": "@jupyter-widgets/controls",
          "model_name": "DescriptionStyleModel",
          "model_module_version": "1.5.0",
          "state": {
            "_view_name": "StyleView",
            "_model_name": "DescriptionStyleModel",
            "description_width": "",
            "_view_module": "@jupyter-widgets/base",
            "_model_module_version": "1.5.0",
            "_view_count": null,
            "_view_module_version": "1.2.0",
            "_model_module": "@jupyter-widgets/controls"
          }
        },
        "0b5251fd58564f1daab22f4e8dabac9c": {
          "model_module": "@jupyter-widgets/base",
          "model_name": "LayoutModel",
          "model_module_version": "1.2.0",
          "state": {
            "_view_name": "LayoutView",
            "grid_template_rows": null,
            "right": null,
            "justify_content": null,
            "_view_module": "@jupyter-widgets/base",
            "overflow": null,
            "_model_module_version": "1.2.0",
            "_view_count": null,
            "flex_flow": null,
            "width": null,
            "min_width": null,
            "border": null,
            "align_items": null,
            "bottom": null,
            "_model_module": "@jupyter-widgets/base",
            "top": null,
            "grid_column": null,
            "overflow_y": null,
            "overflow_x": null,
            "grid_auto_flow": null,
            "grid_area": null,
            "grid_template_columns": null,
            "flex": null,
            "_model_name": "LayoutModel",
            "justify_items": null,
            "grid_row": null,
            "max_height": null,
            "align_content": null,
            "visibility": null,
            "align_self": null,
            "height": null,
            "min_height": null,
            "padding": null,
            "grid_auto_rows": null,
            "grid_gap": null,
            "max_width": null,
            "order": null,
            "_view_module_version": "1.2.0",
            "grid_template_areas": null,
            "object_position": null,
            "object_fit": null,
            "grid_auto_columns": null,
            "margin": null,
            "display": null,
            "left": null
          }
        },
        "1e7f09d4869548399340132c864ca567": {
          "model_module": "@jupyter-widgets/controls",
          "model_name": "HBoxModel",
          "model_module_version": "1.5.0",
          "state": {
            "_view_name": "HBoxView",
            "_dom_classes": [],
            "_model_name": "HBoxModel",
            "_view_module": "@jupyter-widgets/controls",
            "_model_module_version": "1.5.0",
            "_view_count": null,
            "_view_module_version": "1.5.0",
            "box_style": "",
            "layout": "IPY_MODEL_49c73a8209184caebb0d964703c4d989",
            "_model_module": "@jupyter-widgets/controls",
            "children": [
              "IPY_MODEL_f0cda57996b64f579eae73a1eb122091",
              "IPY_MODEL_4756056d3977427fb56929c7a41e6a10",
              "IPY_MODEL_289a77f1d5334d1b826fcd007ac30635"
            ]
          }
        },
        "49c73a8209184caebb0d964703c4d989": {
          "model_module": "@jupyter-widgets/base",
          "model_name": "LayoutModel",
          "model_module_version": "1.2.0",
          "state": {
            "_view_name": "LayoutView",
            "grid_template_rows": null,
            "right": null,
            "justify_content": null,
            "_view_module": "@jupyter-widgets/base",
            "overflow": null,
            "_model_module_version": "1.2.0",
            "_view_count": null,
            "flex_flow": null,
            "width": null,
            "min_width": null,
            "border": null,
            "align_items": null,
            "bottom": null,
            "_model_module": "@jupyter-widgets/base",
            "top": null,
            "grid_column": null,
            "overflow_y": null,
            "overflow_x": null,
            "grid_auto_flow": null,
            "grid_area": null,
            "grid_template_columns": null,
            "flex": null,
            "_model_name": "LayoutModel",
            "justify_items": null,
            "grid_row": null,
            "max_height": null,
            "align_content": null,
            "visibility": null,
            "align_self": null,
            "height": null,
            "min_height": null,
            "padding": null,
            "grid_auto_rows": null,
            "grid_gap": null,
            "max_width": null,
            "order": null,
            "_view_module_version": "1.2.0",
            "grid_template_areas": null,
            "object_position": null,
            "object_fit": null,
            "grid_auto_columns": null,
            "margin": null,
            "display": null,
            "left": null
          }
        },
        "f0cda57996b64f579eae73a1eb122091": {
          "model_module": "@jupyter-widgets/controls",
          "model_name": "HTMLModel",
          "model_module_version": "1.5.0",
          "state": {
            "_view_name": "HTMLView",
            "style": "IPY_MODEL_46f88b38ba84426d84445ec40dc529f5",
            "_dom_classes": [],
            "description": "",
            "_model_name": "HTMLModel",
            "placeholder": "​",
            "_view_module": "@jupyter-widgets/controls",
            "_model_module_version": "1.5.0",
            "value": "Downloading: 100%",
            "_view_count": null,
            "_view_module_version": "1.5.0",
            "description_tooltip": null,
            "_model_module": "@jupyter-widgets/controls",
            "layout": "IPY_MODEL_a0e6c2758eba4cd69ba70d823d705da9"
          }
        },
        "4756056d3977427fb56929c7a41e6a10": {
          "model_module": "@jupyter-widgets/controls",
          "model_name": "FloatProgressModel",
          "model_module_version": "1.5.0",
          "state": {
            "_view_name": "ProgressView",
            "style": "IPY_MODEL_b563c58402c84283a0323741b452e916",
            "_dom_classes": [],
            "description": "",
            "_model_name": "FloatProgressModel",
            "bar_style": "success",
            "max": 557,
            "_view_module": "@jupyter-widgets/controls",
            "_model_module_version": "1.5.0",
            "value": 557,
            "_view_count": null,
            "_view_module_version": "1.5.0",
            "orientation": "horizontal",
            "min": 0,
            "description_tooltip": null,
            "_model_module": "@jupyter-widgets/controls",
            "layout": "IPY_MODEL_125e239ce74f4de689aa3292311e5a43"
          }
        },
        "289a77f1d5334d1b826fcd007ac30635": {
          "model_module": "@jupyter-widgets/controls",
          "model_name": "HTMLModel",
          "model_module_version": "1.5.0",
          "state": {
            "_view_name": "HTMLView",
            "style": "IPY_MODEL_a1227ddb6d94456b96dfa628f45c39b7",
            "_dom_classes": [],
            "description": "",
            "_model_name": "HTMLModel",
            "placeholder": "​",
            "_view_module": "@jupyter-widgets/controls",
            "_model_module_version": "1.5.0",
            "value": " 557/557 [00:00&lt;00:00, 7.04kB/s]",
            "_view_count": null,
            "_view_module_version": "1.5.0",
            "description_tooltip": null,
            "_model_module": "@jupyter-widgets/controls",
            "layout": "IPY_MODEL_ae5d28dbb7e3409a91cd32658fc510c0"
          }
        },
        "46f88b38ba84426d84445ec40dc529f5": {
          "model_module": "@jupyter-widgets/controls",
          "model_name": "DescriptionStyleModel",
          "model_module_version": "1.5.0",
          "state": {
            "_view_name": "StyleView",
            "_model_name": "DescriptionStyleModel",
            "description_width": "",
            "_view_module": "@jupyter-widgets/base",
            "_model_module_version": "1.5.0",
            "_view_count": null,
            "_view_module_version": "1.2.0",
            "_model_module": "@jupyter-widgets/controls"
          }
        },
        "a0e6c2758eba4cd69ba70d823d705da9": {
          "model_module": "@jupyter-widgets/base",
          "model_name": "LayoutModel",
          "model_module_version": "1.2.0",
          "state": {
            "_view_name": "LayoutView",
            "grid_template_rows": null,
            "right": null,
            "justify_content": null,
            "_view_module": "@jupyter-widgets/base",
            "overflow": null,
            "_model_module_version": "1.2.0",
            "_view_count": null,
            "flex_flow": null,
            "width": null,
            "min_width": null,
            "border": null,
            "align_items": null,
            "bottom": null,
            "_model_module": "@jupyter-widgets/base",
            "top": null,
            "grid_column": null,
            "overflow_y": null,
            "overflow_x": null,
            "grid_auto_flow": null,
            "grid_area": null,
            "grid_template_columns": null,
            "flex": null,
            "_model_name": "LayoutModel",
            "justify_items": null,
            "grid_row": null,
            "max_height": null,
            "align_content": null,
            "visibility": null,
            "align_self": null,
            "height": null,
            "min_height": null,
            "padding": null,
            "grid_auto_rows": null,
            "grid_gap": null,
            "max_width": null,
            "order": null,
            "_view_module_version": "1.2.0",
            "grid_template_areas": null,
            "object_position": null,
            "object_fit": null,
            "grid_auto_columns": null,
            "margin": null,
            "display": null,
            "left": null
          }
        },
        "b563c58402c84283a0323741b452e916": {
          "model_module": "@jupyter-widgets/controls",
          "model_name": "ProgressStyleModel",
          "model_module_version": "1.5.0",
          "state": {
            "_view_name": "StyleView",
            "_model_name": "ProgressStyleModel",
            "description_width": "",
            "_view_module": "@jupyter-widgets/base",
            "_model_module_version": "1.5.0",
            "_view_count": null,
            "_view_module_version": "1.2.0",
            "bar_color": null,
            "_model_module": "@jupyter-widgets/controls"
          }
        },
        "125e239ce74f4de689aa3292311e5a43": {
          "model_module": "@jupyter-widgets/base",
          "model_name": "LayoutModel",
          "model_module_version": "1.2.0",
          "state": {
            "_view_name": "LayoutView",
            "grid_template_rows": null,
            "right": null,
            "justify_content": null,
            "_view_module": "@jupyter-widgets/base",
            "overflow": null,
            "_model_module_version": "1.2.0",
            "_view_count": null,
            "flex_flow": null,
            "width": null,
            "min_width": null,
            "border": null,
            "align_items": null,
            "bottom": null,
            "_model_module": "@jupyter-widgets/base",
            "top": null,
            "grid_column": null,
            "overflow_y": null,
            "overflow_x": null,
            "grid_auto_flow": null,
            "grid_area": null,
            "grid_template_columns": null,
            "flex": null,
            "_model_name": "LayoutModel",
            "justify_items": null,
            "grid_row": null,
            "max_height": null,
            "align_content": null,
            "visibility": null,
            "align_self": null,
            "height": null,
            "min_height": null,
            "padding": null,
            "grid_auto_rows": null,
            "grid_gap": null,
            "max_width": null,
            "order": null,
            "_view_module_version": "1.2.0",
            "grid_template_areas": null,
            "object_position": null,
            "object_fit": null,
            "grid_auto_columns": null,
            "margin": null,
            "display": null,
            "left": null
          }
        },
        "a1227ddb6d94456b96dfa628f45c39b7": {
          "model_module": "@jupyter-widgets/controls",
          "model_name": "DescriptionStyleModel",
          "model_module_version": "1.5.0",
          "state": {
            "_view_name": "StyleView",
            "_model_name": "DescriptionStyleModel",
            "description_width": "",
            "_view_module": "@jupyter-widgets/base",
            "_model_module_version": "1.5.0",
            "_view_count": null,
            "_view_module_version": "1.2.0",
            "_model_module": "@jupyter-widgets/controls"
          }
        },
        "ae5d28dbb7e3409a91cd32658fc510c0": {
          "model_module": "@jupyter-widgets/base",
          "model_name": "LayoutModel",
          "model_module_version": "1.2.0",
          "state": {
            "_view_name": "LayoutView",
            "grid_template_rows": null,
            "right": null,
            "justify_content": null,
            "_view_module": "@jupyter-widgets/base",
            "overflow": null,
            "_model_module_version": "1.2.0",
            "_view_count": null,
            "flex_flow": null,
            "width": null,
            "min_width": null,
            "border": null,
            "align_items": null,
            "bottom": null,
            "_model_module": "@jupyter-widgets/base",
            "top": null,
            "grid_column": null,
            "overflow_y": null,
            "overflow_x": null,
            "grid_auto_flow": null,
            "grid_area": null,
            "grid_template_columns": null,
            "flex": null,
            "_model_name": "LayoutModel",
            "justify_items": null,
            "grid_row": null,
            "max_height": null,
            "align_content": null,
            "visibility": null,
            "align_self": null,
            "height": null,
            "min_height": null,
            "padding": null,
            "grid_auto_rows": null,
            "grid_gap": null,
            "max_width": null,
            "order": null,
            "_view_module_version": "1.2.0",
            "grid_template_areas": null,
            "object_position": null,
            "object_fit": null,
            "grid_auto_columns": null,
            "margin": null,
            "display": null,
            "left": null
          }
        },
        "e6de67e22df34c3aaa2c88e7d61be3be": {
          "model_module": "@jupyter-widgets/controls",
          "model_name": "HBoxModel",
          "model_module_version": "1.5.0",
          "state": {
            "_view_name": "HBoxView",
            "_dom_classes": [],
            "_model_name": "HBoxModel",
            "_view_module": "@jupyter-widgets/controls",
            "_model_module_version": "1.5.0",
            "_view_count": null,
            "_view_module_version": "1.5.0",
            "box_style": "",
            "layout": "IPY_MODEL_874011585ba940b693a8ad9b122f6073",
            "_model_module": "@jupyter-widgets/controls",
            "children": [
              "IPY_MODEL_74db4763c5964a81b23d093b02f1cc59",
              "IPY_MODEL_302d3970f0b94995babf115334c63232",
              "IPY_MODEL_616aa27629314dccaef8e325b9741267"
            ]
          }
        },
        "874011585ba940b693a8ad9b122f6073": {
          "model_module": "@jupyter-widgets/base",
          "model_name": "LayoutModel",
          "model_module_version": "1.2.0",
          "state": {
            "_view_name": "LayoutView",
            "grid_template_rows": null,
            "right": null,
            "justify_content": null,
            "_view_module": "@jupyter-widgets/base",
            "overflow": null,
            "_model_module_version": "1.2.0",
            "_view_count": null,
            "flex_flow": null,
            "width": null,
            "min_width": null,
            "border": null,
            "align_items": null,
            "bottom": null,
            "_model_module": "@jupyter-widgets/base",
            "top": null,
            "grid_column": null,
            "overflow_y": null,
            "overflow_x": null,
            "grid_auto_flow": null,
            "grid_area": null,
            "grid_template_columns": null,
            "flex": null,
            "_model_name": "LayoutModel",
            "justify_items": null,
            "grid_row": null,
            "max_height": null,
            "align_content": null,
            "visibility": null,
            "align_self": null,
            "height": null,
            "min_height": null,
            "padding": null,
            "grid_auto_rows": null,
            "grid_gap": null,
            "max_width": null,
            "order": null,
            "_view_module_version": "1.2.0",
            "grid_template_areas": null,
            "object_position": null,
            "object_fit": null,
            "grid_auto_columns": null,
            "margin": null,
            "display": null,
            "left": null
          }
        },
        "74db4763c5964a81b23d093b02f1cc59": {
          "model_module": "@jupyter-widgets/controls",
          "model_name": "HTMLModel",
          "model_module_version": "1.5.0",
          "state": {
            "_view_name": "HTMLView",
            "style": "IPY_MODEL_4d75d881ddf54d0b84a5cc7af62e0187",
            "_dom_classes": [],
            "description": "",
            "_model_name": "HTMLModel",
            "placeholder": "​",
            "_view_module": "@jupyter-widgets/controls",
            "_model_module_version": "1.5.0",
            "value": "Downloading: 100%",
            "_view_count": null,
            "_view_module_version": "1.5.0",
            "description_tooltip": null,
            "_model_module": "@jupyter-widgets/controls",
            "layout": "IPY_MODEL_f2c16257332846d7a0ea89ec0fd9b810"
          }
        },
        "302d3970f0b94995babf115334c63232": {
          "model_module": "@jupyter-widgets/controls",
          "model_name": "FloatProgressModel",
          "model_module_version": "1.5.0",
          "state": {
            "_view_name": "ProgressView",
            "style": "IPY_MODEL_cd1a4215263d481e998a3a8309ef89a0",
            "_dom_classes": [],
            "description": "",
            "_model_name": "FloatProgressModel",
            "bar_style": "success",
            "max": 542923308,
            "_view_module": "@jupyter-widgets/controls",
            "_model_module_version": "1.5.0",
            "value": 542923308,
            "_view_count": null,
            "_view_module_version": "1.5.0",
            "orientation": "horizontal",
            "min": 0,
            "description_tooltip": null,
            "_model_module": "@jupyter-widgets/controls",
            "layout": "IPY_MODEL_4d391ed951b14638945e7f239f297c89"
          }
        },
        "616aa27629314dccaef8e325b9741267": {
          "model_module": "@jupyter-widgets/controls",
          "model_name": "HTMLModel",
          "model_module_version": "1.5.0",
          "state": {
            "_view_name": "HTMLView",
            "style": "IPY_MODEL_60c0ed6bb66446df998188a16f793cdf",
            "_dom_classes": [],
            "description": "",
            "_model_name": "HTMLModel",
            "placeholder": "​",
            "_view_module": "@jupyter-widgets/controls",
            "_model_module_version": "1.5.0",
            "value": " 543M/543M [00:18&lt;00:00, 46.6MB/s]",
            "_view_count": null,
            "_view_module_version": "1.5.0",
            "description_tooltip": null,
            "_model_module": "@jupyter-widgets/controls",
            "layout": "IPY_MODEL_5c9b46227f22403a8f1bef19bd2dceb5"
          }
        },
        "4d75d881ddf54d0b84a5cc7af62e0187": {
          "model_module": "@jupyter-widgets/controls",
          "model_name": "DescriptionStyleModel",
          "model_module_version": "1.5.0",
          "state": {
            "_view_name": "StyleView",
            "_model_name": "DescriptionStyleModel",
            "description_width": "",
            "_view_module": "@jupyter-widgets/base",
            "_model_module_version": "1.5.0",
            "_view_count": null,
            "_view_module_version": "1.2.0",
            "_model_module": "@jupyter-widgets/controls"
          }
        },
        "f2c16257332846d7a0ea89ec0fd9b810": {
          "model_module": "@jupyter-widgets/base",
          "model_name": "LayoutModel",
          "model_module_version": "1.2.0",
          "state": {
            "_view_name": "LayoutView",
            "grid_template_rows": null,
            "right": null,
            "justify_content": null,
            "_view_module": "@jupyter-widgets/base",
            "overflow": null,
            "_model_module_version": "1.2.0",
            "_view_count": null,
            "flex_flow": null,
            "width": null,
            "min_width": null,
            "border": null,
            "align_items": null,
            "bottom": null,
            "_model_module": "@jupyter-widgets/base",
            "top": null,
            "grid_column": null,
            "overflow_y": null,
            "overflow_x": null,
            "grid_auto_flow": null,
            "grid_area": null,
            "grid_template_columns": null,
            "flex": null,
            "_model_name": "LayoutModel",
            "justify_items": null,
            "grid_row": null,
            "max_height": null,
            "align_content": null,
            "visibility": null,
            "align_self": null,
            "height": null,
            "min_height": null,
            "padding": null,
            "grid_auto_rows": null,
            "grid_gap": null,
            "max_width": null,
            "order": null,
            "_view_module_version": "1.2.0",
            "grid_template_areas": null,
            "object_position": null,
            "object_fit": null,
            "grid_auto_columns": null,
            "margin": null,
            "display": null,
            "left": null
          }
        },
        "cd1a4215263d481e998a3a8309ef89a0": {
          "model_module": "@jupyter-widgets/controls",
          "model_name": "ProgressStyleModel",
          "model_module_version": "1.5.0",
          "state": {
            "_view_name": "StyleView",
            "_model_name": "ProgressStyleModel",
            "description_width": "",
            "_view_module": "@jupyter-widgets/base",
            "_model_module_version": "1.5.0",
            "_view_count": null,
            "_view_module_version": "1.2.0",
            "bar_color": null,
            "_model_module": "@jupyter-widgets/controls"
          }
        },
        "4d391ed951b14638945e7f239f297c89": {
          "model_module": "@jupyter-widgets/base",
          "model_name": "LayoutModel",
          "model_module_version": "1.2.0",
          "state": {
            "_view_name": "LayoutView",
            "grid_template_rows": null,
            "right": null,
            "justify_content": null,
            "_view_module": "@jupyter-widgets/base",
            "overflow": null,
            "_model_module_version": "1.2.0",
            "_view_count": null,
            "flex_flow": null,
            "width": null,
            "min_width": null,
            "border": null,
            "align_items": null,
            "bottom": null,
            "_model_module": "@jupyter-widgets/base",
            "top": null,
            "grid_column": null,
            "overflow_y": null,
            "overflow_x": null,
            "grid_auto_flow": null,
            "grid_area": null,
            "grid_template_columns": null,
            "flex": null,
            "_model_name": "LayoutModel",
            "justify_items": null,
            "grid_row": null,
            "max_height": null,
            "align_content": null,
            "visibility": null,
            "align_self": null,
            "height": null,
            "min_height": null,
            "padding": null,
            "grid_auto_rows": null,
            "grid_gap": null,
            "max_width": null,
            "order": null,
            "_view_module_version": "1.2.0",
            "grid_template_areas": null,
            "object_position": null,
            "object_fit": null,
            "grid_auto_columns": null,
            "margin": null,
            "display": null,
            "left": null
          }
        },
        "60c0ed6bb66446df998188a16f793cdf": {
          "model_module": "@jupyter-widgets/controls",
          "model_name": "DescriptionStyleModel",
          "model_module_version": "1.5.0",
          "state": {
            "_view_name": "StyleView",
            "_model_name": "DescriptionStyleModel",
            "description_width": "",
            "_view_module": "@jupyter-widgets/base",
            "_model_module_version": "1.5.0",
            "_view_count": null,
            "_view_module_version": "1.2.0",
            "_model_module": "@jupyter-widgets/controls"
          }
        },
        "5c9b46227f22403a8f1bef19bd2dceb5": {
          "model_module": "@jupyter-widgets/base",
          "model_name": "LayoutModel",
          "model_module_version": "1.2.0",
          "state": {
            "_view_name": "LayoutView",
            "grid_template_rows": null,
            "right": null,
            "justify_content": null,
            "_view_module": "@jupyter-widgets/base",
            "overflow": null,
            "_model_module_version": "1.2.0",
            "_view_count": null,
            "flex_flow": null,
            "width": null,
            "min_width": null,
            "border": null,
            "align_items": null,
            "bottom": null,
            "_model_module": "@jupyter-widgets/base",
            "top": null,
            "grid_column": null,
            "overflow_y": null,
            "overflow_x": null,
            "grid_auto_flow": null,
            "grid_area": null,
            "grid_template_columns": null,
            "flex": null,
            "_model_name": "LayoutModel",
            "justify_items": null,
            "grid_row": null,
            "max_height": null,
            "align_content": null,
            "visibility": null,
            "align_self": null,
            "height": null,
            "min_height": null,
            "padding": null,
            "grid_auto_rows": null,
            "grid_gap": null,
            "max_width": null,
            "order": null,
            "_view_module_version": "1.2.0",
            "grid_template_areas": null,
            "object_position": null,
            "object_fit": null,
            "grid_auto_columns": null,
            "margin": null,
            "display": null,
            "left": null
          }
        },
        "942b5f4243004824baf91bd2724c07e3": {
          "model_module": "@jupyter-widgets/controls",
          "model_name": "HBoxModel",
          "model_module_version": "1.5.0",
          "state": {
            "_view_name": "HBoxView",
            "_dom_classes": [],
            "_model_name": "HBoxModel",
            "_view_module": "@jupyter-widgets/controls",
            "_model_module_version": "1.5.0",
            "_view_count": null,
            "_view_module_version": "1.5.0",
            "box_style": "",
            "layout": "IPY_MODEL_cc486e86eba043af8f7d6a3dda19d1af",
            "_model_module": "@jupyter-widgets/controls",
            "children": [
              "IPY_MODEL_388e3ac424ee445fb88638550a5417a9",
              "IPY_MODEL_76fbfc2a1cd84199be74c2aa50072d9e",
              "IPY_MODEL_acd7cd0525a14f39a77f467ed9d49884"
            ]
          }
        },
        "cc486e86eba043af8f7d6a3dda19d1af": {
          "model_module": "@jupyter-widgets/base",
          "model_name": "LayoutModel",
          "model_module_version": "1.2.0",
          "state": {
            "_view_name": "LayoutView",
            "grid_template_rows": null,
            "right": null,
            "justify_content": null,
            "_view_module": "@jupyter-widgets/base",
            "overflow": null,
            "_model_module_version": "1.2.0",
            "_view_count": null,
            "flex_flow": null,
            "width": null,
            "min_width": null,
            "border": null,
            "align_items": null,
            "bottom": null,
            "_model_module": "@jupyter-widgets/base",
            "top": null,
            "grid_column": null,
            "overflow_y": null,
            "overflow_x": null,
            "grid_auto_flow": null,
            "grid_area": null,
            "grid_template_columns": null,
            "flex": null,
            "_model_name": "LayoutModel",
            "justify_items": null,
            "grid_row": null,
            "max_height": null,
            "align_content": null,
            "visibility": null,
            "align_self": null,
            "height": null,
            "min_height": null,
            "padding": null,
            "grid_auto_rows": null,
            "grid_gap": null,
            "max_width": null,
            "order": null,
            "_view_module_version": "1.2.0",
            "grid_template_areas": null,
            "object_position": null,
            "object_fit": null,
            "grid_auto_columns": null,
            "margin": null,
            "display": null,
            "left": null
          }
        },
        "388e3ac424ee445fb88638550a5417a9": {
          "model_module": "@jupyter-widgets/controls",
          "model_name": "HTMLModel",
          "model_module_version": "1.5.0",
          "state": {
            "_view_name": "HTMLView",
            "style": "IPY_MODEL_99bb0fd4e5ee4f18b649a2578b7de016",
            "_dom_classes": [],
            "description": "",
            "_model_name": "HTMLModel",
            "placeholder": "​",
            "_view_module": "@jupyter-widgets/controls",
            "_model_module_version": "1.5.0",
            "value": "Downloading: 100%",
            "_view_count": null,
            "_view_module_version": "1.5.0",
            "description_tooltip": null,
            "_model_module": "@jupyter-widgets/controls",
            "layout": "IPY_MODEL_5a9b1961ccac4f349e8041dbe168954c"
          }
        },
        "76fbfc2a1cd84199be74c2aa50072d9e": {
          "model_module": "@jupyter-widgets/controls",
          "model_name": "FloatProgressModel",
          "model_module_version": "1.5.0",
          "state": {
            "_view_name": "ProgressView",
            "style": "IPY_MODEL_c851a1b7373b4c8db4b89051046a1c5f",
            "_dom_classes": [],
            "description": "",
            "_model_name": "FloatProgressModel",
            "bar_style": "success",
            "max": 895321,
            "_view_module": "@jupyter-widgets/controls",
            "_model_module_version": "1.5.0",
            "value": 895321,
            "_view_count": null,
            "_view_module_version": "1.5.0",
            "orientation": "horizontal",
            "min": 0,
            "description_tooltip": null,
            "_model_module": "@jupyter-widgets/controls",
            "layout": "IPY_MODEL_e6582038ad7b41a2a59176a3c808e99d"
          }
        },
        "acd7cd0525a14f39a77f467ed9d49884": {
          "model_module": "@jupyter-widgets/controls",
          "model_name": "HTMLModel",
          "model_module_version": "1.5.0",
          "state": {
            "_view_name": "HTMLView",
            "style": "IPY_MODEL_794eb59fd3ee43f285d308bd45b89ec0",
            "_dom_classes": [],
            "description": "",
            "_model_name": "HTMLModel",
            "placeholder": "​",
            "_view_module": "@jupyter-widgets/controls",
            "_model_module_version": "1.5.0",
            "value": " 895k/895k [00:00&lt;00:00, 1.40MB/s]",
            "_view_count": null,
            "_view_module_version": "1.5.0",
            "description_tooltip": null,
            "_model_module": "@jupyter-widgets/controls",
            "layout": "IPY_MODEL_92a1aa3fc08448ef86150eca3de44927"
          }
        },
        "99bb0fd4e5ee4f18b649a2578b7de016": {
          "model_module": "@jupyter-widgets/controls",
          "model_name": "DescriptionStyleModel",
          "model_module_version": "1.5.0",
          "state": {
            "_view_name": "StyleView",
            "_model_name": "DescriptionStyleModel",
            "description_width": "",
            "_view_module": "@jupyter-widgets/base",
            "_model_module_version": "1.5.0",
            "_view_count": null,
            "_view_module_version": "1.2.0",
            "_model_module": "@jupyter-widgets/controls"
          }
        },
        "5a9b1961ccac4f349e8041dbe168954c": {
          "model_module": "@jupyter-widgets/base",
          "model_name": "LayoutModel",
          "model_module_version": "1.2.0",
          "state": {
            "_view_name": "LayoutView",
            "grid_template_rows": null,
            "right": null,
            "justify_content": null,
            "_view_module": "@jupyter-widgets/base",
            "overflow": null,
            "_model_module_version": "1.2.0",
            "_view_count": null,
            "flex_flow": null,
            "width": null,
            "min_width": null,
            "border": null,
            "align_items": null,
            "bottom": null,
            "_model_module": "@jupyter-widgets/base",
            "top": null,
            "grid_column": null,
            "overflow_y": null,
            "overflow_x": null,
            "grid_auto_flow": null,
            "grid_area": null,
            "grid_template_columns": null,
            "flex": null,
            "_model_name": "LayoutModel",
            "justify_items": null,
            "grid_row": null,
            "max_height": null,
            "align_content": null,
            "visibility": null,
            "align_self": null,
            "height": null,
            "min_height": null,
            "padding": null,
            "grid_auto_rows": null,
            "grid_gap": null,
            "max_width": null,
            "order": null,
            "_view_module_version": "1.2.0",
            "grid_template_areas": null,
            "object_position": null,
            "object_fit": null,
            "grid_auto_columns": null,
            "margin": null,
            "display": null,
            "left": null
          }
        },
        "c851a1b7373b4c8db4b89051046a1c5f": {
          "model_module": "@jupyter-widgets/controls",
          "model_name": "ProgressStyleModel",
          "model_module_version": "1.5.0",
          "state": {
            "_view_name": "StyleView",
            "_model_name": "ProgressStyleModel",
            "description_width": "",
            "_view_module": "@jupyter-widgets/base",
            "_model_module_version": "1.5.0",
            "_view_count": null,
            "_view_module_version": "1.2.0",
            "bar_color": null,
            "_model_module": "@jupyter-widgets/controls"
          }
        },
        "e6582038ad7b41a2a59176a3c808e99d": {
          "model_module": "@jupyter-widgets/base",
          "model_name": "LayoutModel",
          "model_module_version": "1.2.0",
          "state": {
            "_view_name": "LayoutView",
            "grid_template_rows": null,
            "right": null,
            "justify_content": null,
            "_view_module": "@jupyter-widgets/base",
            "overflow": null,
            "_model_module_version": "1.2.0",
            "_view_count": null,
            "flex_flow": null,
            "width": null,
            "min_width": null,
            "border": null,
            "align_items": null,
            "bottom": null,
            "_model_module": "@jupyter-widgets/base",
            "top": null,
            "grid_column": null,
            "overflow_y": null,
            "overflow_x": null,
            "grid_auto_flow": null,
            "grid_area": null,
            "grid_template_columns": null,
            "flex": null,
            "_model_name": "LayoutModel",
            "justify_items": null,
            "grid_row": null,
            "max_height": null,
            "align_content": null,
            "visibility": null,
            "align_self": null,
            "height": null,
            "min_height": null,
            "padding": null,
            "grid_auto_rows": null,
            "grid_gap": null,
            "max_width": null,
            "order": null,
            "_view_module_version": "1.2.0",
            "grid_template_areas": null,
            "object_position": null,
            "object_fit": null,
            "grid_auto_columns": null,
            "margin": null,
            "display": null,
            "left": null
          }
        },
        "794eb59fd3ee43f285d308bd45b89ec0": {
          "model_module": "@jupyter-widgets/controls",
          "model_name": "DescriptionStyleModel",
          "model_module_version": "1.5.0",
          "state": {
            "_view_name": "StyleView",
            "_model_name": "DescriptionStyleModel",
            "description_width": "",
            "_view_module": "@jupyter-widgets/base",
            "_model_module_version": "1.5.0",
            "_view_count": null,
            "_view_module_version": "1.2.0",
            "_model_module": "@jupyter-widgets/controls"
          }
        },
        "92a1aa3fc08448ef86150eca3de44927": {
          "model_module": "@jupyter-widgets/base",
          "model_name": "LayoutModel",
          "model_module_version": "1.2.0",
          "state": {
            "_view_name": "LayoutView",
            "grid_template_rows": null,
            "right": null,
            "justify_content": null,
            "_view_module": "@jupyter-widgets/base",
            "overflow": null,
            "_model_module_version": "1.2.0",
            "_view_count": null,
            "flex_flow": null,
            "width": null,
            "min_width": null,
            "border": null,
            "align_items": null,
            "bottom": null,
            "_model_module": "@jupyter-widgets/base",
            "top": null,
            "grid_column": null,
            "overflow_y": null,
            "overflow_x": null,
            "grid_auto_flow": null,
            "grid_area": null,
            "grid_template_columns": null,
            "flex": null,
            "_model_name": "LayoutModel",
            "justify_items": null,
            "grid_row": null,
            "max_height": null,
            "align_content": null,
            "visibility": null,
            "align_self": null,
            "height": null,
            "min_height": null,
            "padding": null,
            "grid_auto_rows": null,
            "grid_gap": null,
            "max_width": null,
            "order": null,
            "_view_module_version": "1.2.0",
            "grid_template_areas": null,
            "object_position": null,
            "object_fit": null,
            "grid_auto_columns": null,
            "margin": null,
            "display": null,
            "left": null
          }
        }
      }
    }
  },
  "cells": [
    {
      "cell_type": "code",
      "execution_count": null,
      "metadata": {
        "colab": {
          "base_uri": "https://localhost:8080/"
        },
        "id": "SgKVGChBg6tu",
        "outputId": "96703a25-b3f2-4d55-8edf-5c0df8fa8c69"
      },
      "outputs": [
        {
          "output_type": "stream",
          "name": "stdout",
          "text": [
            "Collecting sentence-transformers\n",
            "  Downloading sentence-transformers-2.2.0.tar.gz (79 kB)\n",
            "\u001b[K     |████████████████████████████████| 79 kB 3.7 MB/s \n",
            "\u001b[?25hCollecting transformers<5.0.0,>=4.6.0\n",
            "  Downloading transformers-4.16.2-py3-none-any.whl (3.5 MB)\n",
            "\u001b[K     |████████████████████████████████| 3.5 MB 11.4 MB/s \n",
            "\u001b[?25hRequirement already satisfied: tqdm in /usr/local/lib/python3.7/dist-packages (from sentence-transformers) (4.62.3)\n",
            "Requirement already satisfied: torch>=1.6.0 in /usr/local/lib/python3.7/dist-packages (from sentence-transformers) (1.10.0+cu111)\n",
            "Requirement already satisfied: torchvision in /usr/local/lib/python3.7/dist-packages (from sentence-transformers) (0.11.1+cu111)\n",
            "Requirement already satisfied: numpy in /usr/local/lib/python3.7/dist-packages (from sentence-transformers) (1.21.5)\n",
            "Requirement already satisfied: scikit-learn in /usr/local/lib/python3.7/dist-packages (from sentence-transformers) (1.0.2)\n",
            "Requirement already satisfied: scipy in /usr/local/lib/python3.7/dist-packages (from sentence-transformers) (1.4.1)\n",
            "Requirement already satisfied: nltk in /usr/local/lib/python3.7/dist-packages (from sentence-transformers) (3.2.5)\n",
            "Collecting sentencepiece\n",
            "  Downloading sentencepiece-0.1.96-cp37-cp37m-manylinux_2_17_x86_64.manylinux2014_x86_64.whl (1.2 MB)\n",
            "\u001b[K     |████████████████████████████████| 1.2 MB 49.6 MB/s \n",
            "\u001b[?25hCollecting huggingface-hub\n",
            "  Downloading huggingface_hub-0.4.0-py3-none-any.whl (67 kB)\n",
            "\u001b[K     |████████████████████████████████| 67 kB 4.9 MB/s \n",
            "\u001b[?25hRequirement already satisfied: typing-extensions in /usr/local/lib/python3.7/dist-packages (from torch>=1.6.0->sentence-transformers) (3.10.0.2)\n",
            "Requirement already satisfied: importlib-metadata in /usr/local/lib/python3.7/dist-packages (from transformers<5.0.0,>=4.6.0->sentence-transformers) (4.11.1)\n",
            "Requirement already satisfied: filelock in /usr/local/lib/python3.7/dist-packages (from transformers<5.0.0,>=4.6.0->sentence-transformers) (3.6.0)\n",
            "Requirement already satisfied: regex!=2019.12.17 in /usr/local/lib/python3.7/dist-packages (from transformers<5.0.0,>=4.6.0->sentence-transformers) (2019.12.20)\n",
            "Collecting tokenizers!=0.11.3,>=0.10.1\n",
            "  Downloading tokenizers-0.11.6-cp37-cp37m-manylinux_2_12_x86_64.manylinux2010_x86_64.whl (6.5 MB)\n",
            "\u001b[K     |████████████████████████████████| 6.5 MB 40.7 MB/s \n",
            "\u001b[?25hRequirement already satisfied: requests in /usr/local/lib/python3.7/dist-packages (from transformers<5.0.0,>=4.6.0->sentence-transformers) (2.23.0)\n",
            "Collecting pyyaml>=5.1\n",
            "  Downloading PyYAML-6.0-cp37-cp37m-manylinux_2_5_x86_64.manylinux1_x86_64.manylinux_2_12_x86_64.manylinux2010_x86_64.whl (596 kB)\n",
            "\u001b[K     |████████████████████████████████| 596 kB 45.7 MB/s \n",
            "\u001b[?25hRequirement already satisfied: packaging>=20.0 in /usr/local/lib/python3.7/dist-packages (from transformers<5.0.0,>=4.6.0->sentence-transformers) (21.3)\n",
            "Collecting sacremoses\n",
            "  Downloading sacremoses-0.0.47-py2.py3-none-any.whl (895 kB)\n",
            "\u001b[K     |████████████████████████████████| 895 kB 48.1 MB/s \n",
            "\u001b[?25hRequirement already satisfied: pyparsing!=3.0.5,>=2.0.2 in /usr/local/lib/python3.7/dist-packages (from packaging>=20.0->transformers<5.0.0,>=4.6.0->sentence-transformers) (3.0.7)\n",
            "Requirement already satisfied: zipp>=0.5 in /usr/local/lib/python3.7/dist-packages (from importlib-metadata->transformers<5.0.0,>=4.6.0->sentence-transformers) (3.7.0)\n",
            "Requirement already satisfied: six in /usr/local/lib/python3.7/dist-packages (from nltk->sentence-transformers) (1.15.0)\n",
            "Requirement already satisfied: chardet<4,>=3.0.2 in /usr/local/lib/python3.7/dist-packages (from requests->transformers<5.0.0,>=4.6.0->sentence-transformers) (3.0.4)\n",
            "Requirement already satisfied: certifi>=2017.4.17 in /usr/local/lib/python3.7/dist-packages (from requests->transformers<5.0.0,>=4.6.0->sentence-transformers) (2021.10.8)\n",
            "Requirement already satisfied: urllib3!=1.25.0,!=1.25.1,<1.26,>=1.21.1 in /usr/local/lib/python3.7/dist-packages (from requests->transformers<5.0.0,>=4.6.0->sentence-transformers) (1.24.3)\n",
            "Requirement already satisfied: idna<3,>=2.5 in /usr/local/lib/python3.7/dist-packages (from requests->transformers<5.0.0,>=4.6.0->sentence-transformers) (2.10)\n",
            "Requirement already satisfied: joblib in /usr/local/lib/python3.7/dist-packages (from sacremoses->transformers<5.0.0,>=4.6.0->sentence-transformers) (1.1.0)\n",
            "Requirement already satisfied: click in /usr/local/lib/python3.7/dist-packages (from sacremoses->transformers<5.0.0,>=4.6.0->sentence-transformers) (7.1.2)\n",
            "Requirement already satisfied: threadpoolctl>=2.0.0 in /usr/local/lib/python3.7/dist-packages (from scikit-learn->sentence-transformers) (3.1.0)\n",
            "Requirement already satisfied: pillow!=8.3.0,>=5.3.0 in /usr/local/lib/python3.7/dist-packages (from torchvision->sentence-transformers) (7.1.2)\n",
            "Building wheels for collected packages: sentence-transformers\n",
            "  Building wheel for sentence-transformers (setup.py) ... \u001b[?25l\u001b[?25hdone\n",
            "  Created wheel for sentence-transformers: filename=sentence_transformers-2.2.0-py3-none-any.whl size=120747 sha256=0aa5d9f378b6f19895f5229ae6c93e07171e32e058ab50c1e20382b40a900424\n",
            "  Stored in directory: /root/.cache/pip/wheels/83/c0/df/b6873ab7aac3f2465aa9144b6b4c41c4391cfecc027c8b07e7\n",
            "Successfully built sentence-transformers\n",
            "Installing collected packages: pyyaml, tokenizers, sacremoses, huggingface-hub, transformers, sentencepiece, sentence-transformers\n",
            "  Attempting uninstall: pyyaml\n",
            "    Found existing installation: PyYAML 3.13\n",
            "    Uninstalling PyYAML-3.13:\n",
            "      Successfully uninstalled PyYAML-3.13\n",
            "Successfully installed huggingface-hub-0.4.0 pyyaml-6.0 sacremoses-0.0.47 sentence-transformers-2.2.0 sentencepiece-0.1.96 tokenizers-0.11.6 transformers-4.16.2\n"
          ]
        }
      ],
      "source": [
        "!pip install -U sentence-transformers"
      ]
    },
    {
      "cell_type": "code",
      "source": [
        "import torch"
      ],
      "metadata": {
        "id": "O1yIbArKjsXz"
      },
      "execution_count": null,
      "outputs": []
    },
    {
      "cell_type": "code",
      "source": [
        "from sentence_transformers import SentenceTransformer\n",
        "model = SentenceTransformer(\"vinai/phobert-base\")"
      ],
      "metadata": {
        "colab": {
          "base_uri": "https://localhost:8080/",
          "height": 316,
          "referenced_widgets": [
            "6f7bb2a07fda4d18850d4a2712d0e2a8",
            "c5eb2cbb105740f6a3237a81f47a2180",
            "d1ac6fa7e6e241dcab2f3cd1c938308f",
            "983ef3737e4b4723b91955112da4d04f",
            "a4c373841e9443f9a0caebcb65ec4cad",
            "0878a09a328e4512afd748af4c8c8913",
            "616b93efb8ba4ac2a126070f416eff85",
            "1112164674354a67903a6642aeb33806",
            "b4549573126543af91bb48176ee4ee1f",
            "e1fb6043d48b49c0a8043e4659b343ba",
            "efd6d7cb8939418aa844385aaf94376b",
            "78124d7d91214632a216ddc543a64edf",
            "1a7d71d4fd8c48208487aac52d886e16",
            "52e43d0b023e4777bff0db45b949d7d4",
            "cf10f7e261ba4515a35babefa8706756",
            "2ef80be4d3b242cba741ab568abbc219",
            "bfd0c4b17f9043ea873f29dee50e18a8",
            "d252bfc0b54f4e939a3221de4c406e3c",
            "19ecae2cc68c46a3a61a54b99457357b",
            "7357a07cd533418983f4308db0cab3c9",
            "6158949e9159429e9aa1a6832f11c222",
            "6271620550ff4c22be4848df12e7d6d3",
            "17e2ab5a17464f8e8e71aa77c4228a68",
            "5e5540aa490e44c19892aef9f5088f19",
            "ca08af88fad145168129f7ddaa0fb8f8",
            "dc4ca4be73b04f8c9d67423cb8d79679",
            "af0de1e9edbb4417b2c05b87b3c5ce13",
            "dec9803841024c8ebbeb890b40d09cb9",
            "9392edca6df444c5bda61a98da8be923",
            "d2f52b7cb66b41c88b1f18ceb252a6c6",
            "b5dbe99ff7b34153bebe9080a760dc9f",
            "9b44ec66cf7e4b2a8de24326692af3df",
            "0b5251fd58564f1daab22f4e8dabac9c",
            "1e7f09d4869548399340132c864ca567",
            "49c73a8209184caebb0d964703c4d989",
            "f0cda57996b64f579eae73a1eb122091",
            "4756056d3977427fb56929c7a41e6a10",
            "289a77f1d5334d1b826fcd007ac30635",
            "46f88b38ba84426d84445ec40dc529f5",
            "a0e6c2758eba4cd69ba70d823d705da9",
            "b563c58402c84283a0323741b452e916",
            "125e239ce74f4de689aa3292311e5a43",
            "a1227ddb6d94456b96dfa628f45c39b7",
            "ae5d28dbb7e3409a91cd32658fc510c0",
            "e6de67e22df34c3aaa2c88e7d61be3be",
            "874011585ba940b693a8ad9b122f6073",
            "74db4763c5964a81b23d093b02f1cc59",
            "302d3970f0b94995babf115334c63232",
            "616aa27629314dccaef8e325b9741267",
            "4d75d881ddf54d0b84a5cc7af62e0187",
            "f2c16257332846d7a0ea89ec0fd9b810",
            "cd1a4215263d481e998a3a8309ef89a0",
            "4d391ed951b14638945e7f239f297c89",
            "60c0ed6bb66446df998188a16f793cdf",
            "5c9b46227f22403a8f1bef19bd2dceb5",
            "942b5f4243004824baf91bd2724c07e3",
            "cc486e86eba043af8f7d6a3dda19d1af",
            "388e3ac424ee445fb88638550a5417a9",
            "76fbfc2a1cd84199be74c2aa50072d9e",
            "acd7cd0525a14f39a77f467ed9d49884",
            "99bb0fd4e5ee4f18b649a2578b7de016",
            "5a9b1961ccac4f349e8041dbe168954c",
            "c851a1b7373b4c8db4b89051046a1c5f",
            "e6582038ad7b41a2a59176a3c808e99d",
            "794eb59fd3ee43f285d308bd45b89ec0",
            "92a1aa3fc08448ef86150eca3de44927"
          ]
        },
        "id": "oCyqrIM6koM-",
        "outputId": "6a79be99-8f06-4237-d672-4881728a0f82"
      },
      "execution_count": null,
      "outputs": [
        {
          "output_type": "display_data",
          "data": {
            "application/vnd.jupyter.widget-view+json": {
              "model_id": "6f7bb2a07fda4d18850d4a2712d0e2a8",
              "version_minor": 0,
              "version_major": 2
            },
            "text/plain": [
              "Downloading:   0%|          | 0.00/391 [00:00<?, ?B/s]"
            ]
          },
          "metadata": {}
        },
        {
          "output_type": "display_data",
          "data": {
            "application/vnd.jupyter.widget-view+json": {
              "model_id": "78124d7d91214632a216ddc543a64edf",
              "version_minor": 0,
              "version_major": 2
            },
            "text/plain": [
              "Downloading:   0%|          | 0.00/2.60k [00:00<?, ?B/s]"
            ]
          },
          "metadata": {}
        },
        {
          "output_type": "display_data",
          "data": {
            "application/vnd.jupyter.widget-view+json": {
              "model_id": "17e2ab5a17464f8e8e71aa77c4228a68",
              "version_minor": 0,
              "version_major": 2
            },
            "text/plain": [
              "Downloading:   0%|          | 0.00/1.14M [00:00<?, ?B/s]"
            ]
          },
          "metadata": {}
        },
        {
          "output_type": "display_data",
          "data": {
            "application/vnd.jupyter.widget-view+json": {
              "model_id": "1e7f09d4869548399340132c864ca567",
              "version_minor": 0,
              "version_major": 2
            },
            "text/plain": [
              "Downloading:   0%|          | 0.00/557 [00:00<?, ?B/s]"
            ]
          },
          "metadata": {}
        },
        {
          "output_type": "display_data",
          "data": {
            "application/vnd.jupyter.widget-view+json": {
              "model_id": "e6de67e22df34c3aaa2c88e7d61be3be",
              "version_minor": 0,
              "version_major": 2
            },
            "text/plain": [
              "Downloading:   0%|          | 0.00/543M [00:00<?, ?B/s]"
            ]
          },
          "metadata": {}
        },
        {
          "output_type": "display_data",
          "data": {
            "application/vnd.jupyter.widget-view+json": {
              "model_id": "942b5f4243004824baf91bd2724c07e3",
              "version_minor": 0,
              "version_major": 2
            },
            "text/plain": [
              "Downloading:   0%|          | 0.00/895k [00:00<?, ?B/s]"
            ]
          },
          "metadata": {}
        },
        {
          "output_type": "stream",
          "name": "stderr",
          "text": [
            "WARNING:root:No sentence-transformers model found with name /root/.cache/torch/sentence_transformers/vinai_phobert-base. Creating a new one with MEAN pooling.\n",
            "Some weights of the model checkpoint at /root/.cache/torch/sentence_transformers/vinai_phobert-base were not used when initializing RobertaModel: ['lm_head.dense.bias', 'lm_head.decoder.weight', 'lm_head.bias', 'lm_head.layer_norm.weight', 'lm_head.dense.weight', 'lm_head.layer_norm.bias', 'lm_head.decoder.bias']\n",
            "- This IS expected if you are initializing RobertaModel from the checkpoint of a model trained on another task or with another architecture (e.g. initializing a BertForSequenceClassification model from a BertForPreTraining model).\n",
            "- This IS NOT expected if you are initializing RobertaModel from the checkpoint of a model that you expect to be exactly identical (initializing a BertForSequenceClassification model from a BertForSequenceClassification model).\n",
            "Special tokens have been added in the vocabulary, make sure the associated word embeddings are fine-tuned or trained.\n"
          ]
        }
      ]
    },
    {
      "cell_type": "code",
      "source": [
        "sentences = [\"Anh nhớ em.\",\n",
        "             \"Hôm nay trời có mưa không?\",\n",
        "             \"Anh muốn cưới em.\",\n",
        "             \"Dạo này MU đá đần nhỉ!\",\n",
        "             \"Lúc nào cũng tấu hài.\",\n",
        "             \"Yêu nhau nhé bạn thân.\"]"
      ],
      "metadata": {
        "id": "eUU6tRMGlKog"
      },
      "execution_count": null,
      "outputs": []
    },
    {
      "cell_type": "code",
      "source": [
        "# Install the vncorenlp python wrapper\n",
        "!pip3 install vncorenlp\n",
        "\n",
        "# Download VnCoreNLP-1.1.1.jar & its word segmentation component (i.e. RDRSegmenter) \n",
        "!mkdir -p vncorenlp/models/wordsegmenter\n",
        "!wget https://raw.githubusercontent.com/vncorenlp/VnCoreNLP/master/VnCoreNLP-1.1.1.jar\n",
        "!wget https://raw.githubusercontent.com/vncorenlp/VnCoreNLP/master/models/wordsegmenter/vi-vocab\n",
        "!wget https://raw.githubusercontent.com/vncorenlp/VnCoreNLP/master/models/wordsegmenter/wordsegmenter.rdr\n",
        "!mv VnCoreNLP-1.1.1.jar vncorenlp/ \n",
        "!mv vi-vocab vncorenlp/models/wordsegmenter/\n",
        "!mv wordsegmenter.rdr vncorenlp/models/wordsegmenter/"
      ],
      "metadata": {
        "colab": {
          "base_uri": "https://localhost:8080/"
        },
        "id": "JgxMBuqwlxP2",
        "outputId": "45fba9fe-ae91-48f7-ac37-99e48f1ee346"
      },
      "execution_count": null,
      "outputs": [
        {
          "output_type": "stream",
          "name": "stdout",
          "text": [
            "Collecting vncorenlp\n",
            "  Downloading vncorenlp-1.0.3.tar.gz (2.6 MB)\n",
            "\u001b[K     |████████████████████████████████| 2.6 MB 5.3 MB/s \n",
            "\u001b[?25hRequirement already satisfied: requests in /usr/local/lib/python3.7/dist-packages (from vncorenlp) (2.23.0)\n",
            "Requirement already satisfied: chardet<4,>=3.0.2 in /usr/local/lib/python3.7/dist-packages (from requests->vncorenlp) (3.0.4)\n",
            "Requirement already satisfied: urllib3!=1.25.0,!=1.25.1,<1.26,>=1.21.1 in /usr/local/lib/python3.7/dist-packages (from requests->vncorenlp) (1.24.3)\n",
            "Requirement already satisfied: idna<3,>=2.5 in /usr/local/lib/python3.7/dist-packages (from requests->vncorenlp) (2.10)\n",
            "Requirement already satisfied: certifi>=2017.4.17 in /usr/local/lib/python3.7/dist-packages (from requests->vncorenlp) (2021.10.8)\n",
            "Building wheels for collected packages: vncorenlp\n",
            "  Building wheel for vncorenlp (setup.py) ... \u001b[?25l\u001b[?25hdone\n",
            "  Created wheel for vncorenlp: filename=vncorenlp-1.0.3-py3-none-any.whl size=2645951 sha256=4a7239c4ce5676134b93a4f234dac8d1de510b52c511679bde9e8a6a3eb11402\n",
            "  Stored in directory: /root/.cache/pip/wheels/0c/d8/f2/d28d97379b4f6479bf51247c8dfd57fa00932fa7a74b6aab29\n",
            "Successfully built vncorenlp\n",
            "Installing collected packages: vncorenlp\n",
            "Successfully installed vncorenlp-1.0.3\n",
            "--2022-03-03 08:43:48--  https://raw.githubusercontent.com/vncorenlp/VnCoreNLP/master/VnCoreNLP-1.1.1.jar\n",
            "Resolving raw.githubusercontent.com (raw.githubusercontent.com)... 185.199.108.133, 185.199.109.133, 185.199.110.133, ...\n",
            "Connecting to raw.githubusercontent.com (raw.githubusercontent.com)|185.199.108.133|:443... connected.\n",
            "HTTP request sent, awaiting response... 200 OK\n",
            "Length: 27412575 (26M) [application/octet-stream]\n",
            "Saving to: ‘VnCoreNLP-1.1.1.jar’\n",
            "\n",
            "VnCoreNLP-1.1.1.jar 100%[===================>]  26.14M   167MB/s    in 0.2s    \n",
            "\n",
            "2022-03-03 08:43:49 (167 MB/s) - ‘VnCoreNLP-1.1.1.jar’ saved [27412575/27412575]\n",
            "\n",
            "--2022-03-03 08:43:49--  https://raw.githubusercontent.com/vncorenlp/VnCoreNLP/master/models/wordsegmenter/vi-vocab\n",
            "Resolving raw.githubusercontent.com (raw.githubusercontent.com)... 185.199.108.133, 185.199.109.133, 185.199.110.133, ...\n",
            "Connecting to raw.githubusercontent.com (raw.githubusercontent.com)|185.199.108.133|:443... connected.\n",
            "HTTP request sent, awaiting response... 200 OK\n",
            "Length: 526544 (514K) [application/octet-stream]\n",
            "Saving to: ‘vi-vocab’\n",
            "\n",
            "vi-vocab            100%[===================>] 514.20K  --.-KB/s    in 0.04s   \n",
            "\n",
            "2022-03-03 08:43:49 (12.7 MB/s) - ‘vi-vocab’ saved [526544/526544]\n",
            "\n",
            "--2022-03-03 08:43:49--  https://raw.githubusercontent.com/vncorenlp/VnCoreNLP/master/models/wordsegmenter/wordsegmenter.rdr\n",
            "Resolving raw.githubusercontent.com (raw.githubusercontent.com)... 185.199.110.133, 185.199.111.133, 185.199.108.133, ...\n",
            "Connecting to raw.githubusercontent.com (raw.githubusercontent.com)|185.199.110.133|:443... connected.\n",
            "HTTP request sent, awaiting response... 200 OK\n",
            "Length: 128508 (125K) [text/plain]\n",
            "Saving to: ‘wordsegmenter.rdr’\n",
            "\n",
            "wordsegmenter.rdr   100%[===================>] 125.50K  --.-KB/s    in 0.02s   \n",
            "\n",
            "2022-03-03 08:43:50 (6.02 MB/s) - ‘wordsegmenter.rdr’ saved [128508/128508]\n",
            "\n"
          ]
        }
      ]
    },
    {
      "cell_type": "code",
      "source": [
        "from vncorenlp import VnCoreNLP\n",
        "rdrsegmenter = VnCoreNLP(\"/content/vncorenlp/VnCoreNLP-1.1.1.jar\", annotators = \"wseg\", max_heap_size = \"-Xmx500m\")"
      ],
      "metadata": {
        "id": "HU-2qORzmq8X"
      },
      "execution_count": null,
      "outputs": []
    },
    {
      "cell_type": "code",
      "source": [
        "sent = rdrsegmenter.tokenize(\"Có lẽ em yêu anh nhiều quá, nên là em chẳng dám buông ra.\")\n",
        "sent = \" \".join(sent[0])"
      ],
      "metadata": {
        "id": "vGwS2JSinQFL"
      },
      "execution_count": null,
      "outputs": []
    },
    {
      "cell_type": "code",
      "source": [
        "sent"
      ],
      "metadata": {
        "colab": {
          "base_uri": "https://localhost:8080/",
          "height": 35
        },
        "id": "8ac2A2n4nnIo",
        "outputId": "1aa383fc-df7e-451f-88f9-e9c87a6356a0"
      },
      "execution_count": null,
      "outputs": [
        {
          "output_type": "execute_result",
          "data": {
            "application/vnd.google.colaboratory.intrinsic+json": {
              "type": "string"
            },
            "text/plain": [
              "'Có_lẽ em yêu anh nhiều quá , nên là em chẳng dám buông ra .'"
            ]
          },
          "metadata": {},
          "execution_count": 8
        }
      ]
    },
    {
      "cell_type": "code",
      "source": [
        "lst_sent = []"
      ],
      "metadata": {
        "id": "vh_xPEsVoPe9"
      },
      "execution_count": null,
      "outputs": []
    },
    {
      "cell_type": "code",
      "source": [
        "for sentence in sentences:\n",
        "  sent = rdrsegmenter.tokenize(sentence) \n",
        "  sent = \" \".join(sent[0])\n",
        "  lst_sent.append(sent)"
      ],
      "metadata": {
        "id": "ds0uhkGcn9qJ"
      },
      "execution_count": null,
      "outputs": []
    },
    {
      "cell_type": "code",
      "source": [
        "lst_sent"
      ],
      "metadata": {
        "colab": {
          "base_uri": "https://localhost:8080/"
        },
        "id": "77GFFs32obf4",
        "outputId": "83be8184-627c-42ef-b2db-a0fc7ced29aa"
      },
      "execution_count": null,
      "outputs": [
        {
          "output_type": "execute_result",
          "data": {
            "text/plain": [
              "['Anh nhớ em .',\n",
              " 'Hôm_nay trời có mưa không ?',\n",
              " 'Anh muốn cưới em .',\n",
              " 'Dạo này MU đá đần nhỉ !',\n",
              " 'Lúc_nào cũng tấu hài .',\n",
              " 'Yêu nhau nhé bạn thân .']"
            ]
          },
          "metadata": {},
          "execution_count": 11
        }
      ]
    },
    {
      "cell_type": "code",
      "source": [
        "#Sentences are encoded by calling model.encode()\n",
        "embeddings = model.encode(sentences)\n",
        "#Print the embeddings\n",
        "for sentence, embedding in zip(sentences, embeddings):\n",
        "    print(\"Sentence:\", sentence)\n",
        "    print(\"Embedding:\", torch.tensor(embedding).size())\n",
        "    print(\"\")"
      ],
      "metadata": {
        "colab": {
          "base_uri": "https://localhost:8080/"
        },
        "id": "lZMDd-5loc2o",
        "outputId": "f5e30204-7a11-4361-f227-61f7b134c188"
      },
      "execution_count": null,
      "outputs": [
        {
          "output_type": "stream",
          "name": "stdout",
          "text": [
            "Sentence: Anh nhớ em.\n",
            "Embedding: torch.Size([768])\n",
            "\n",
            "Sentence: Hôm nay trời có mưa không?\n",
            "Embedding: torch.Size([768])\n",
            "\n",
            "Sentence: Anh muốn cưới em.\n",
            "Embedding: torch.Size([768])\n",
            "\n",
            "Sentence: Dạo này MU đá đần nhỉ!\n",
            "Embedding: torch.Size([768])\n",
            "\n",
            "Sentence: Lúc nào cũng tấu hài.\n",
            "Embedding: torch.Size([768])\n",
            "\n",
            "Sentence: Yêu nhau nhé bạn thân.\n",
            "Embedding: torch.Size([768])\n",
            "\n"
          ]
        }
      ]
    },
    {
      "cell_type": "code",
      "source": [
        "type(embeddings)"
      ],
      "metadata": {
        "colab": {
          "base_uri": "https://localhost:8080/"
        },
        "id": "H2P-TzdjorcL",
        "outputId": "1b8a30ca-4bb5-410f-edaf-27e121e37a14"
      },
      "execution_count": null,
      "outputs": [
        {
          "output_type": "execute_result",
          "data": {
            "text/plain": [
              "numpy.ndarray"
            ]
          },
          "metadata": {},
          "execution_count": 13
        }
      ]
    },
    {
      "cell_type": "code",
      "source": [
        "embeddings[0]"
      ],
      "metadata": {
        "colab": {
          "base_uri": "https://localhost:8080/"
        },
        "id": "to9jrBzppFXy",
        "outputId": "c00dc04d-fcd5-4945-daec-097d67e6a898"
      },
      "execution_count": null,
      "outputs": [
        {
          "output_type": "execute_result",
          "data": {
            "text/plain": [
              "array([ 4.55204137e-02, -1.11558318e-01,  9.64874029e-02, -1.02039136e-01,\n",
              "       -2.49191344e-01, -3.02540183e-01,  4.99549121e-01,  3.00113738e-01,\n",
              "        1.99477956e-01,  2.12457657e-01,  1.12645082e-01,  8.71840343e-02,\n",
              "        1.33903280e-01, -7.44948909e-02, -1.63583040e-01, -1.40569523e-01,\n",
              "       -5.49635231e-01,  2.37735957e-02, -1.70515165e-01, -1.44881353e-01,\n",
              "       -3.25253129e-01, -1.88416913e-01,  2.70218909e-01,  3.54552388e-01,\n",
              "       -2.80720651e-01, -2.88928628e-01,  3.02744657e-01,  1.85979411e-01,\n",
              "       -2.16277495e-01, -3.70335691e-02,  8.63247458e-03,  1.12470984e-02,\n",
              "       -3.64068225e-02,  2.04314485e-01,  5.64132154e-01,  6.62955821e-01,\n",
              "       -8.61346945e-02, -2.11421862e-01,  2.04050943e-01,  4.02619511e-01,\n",
              "       -6.00596778e-02,  2.44840816e-01,  2.74267465e-01, -3.45479876e-01,\n",
              "       -1.84922833e-02,  2.43950784e-01,  2.10613802e-01, -1.50375351e-01,\n",
              "       -1.03752971e-01,  2.10212246e-01, -2.29856357e-01, -4.49021786e-01,\n",
              "       -3.11822325e-01, -8.06329995e-02,  7.89555073e-01, -2.74571806e-01,\n",
              "       -1.69259965e-01,  1.96934819e-01,  7.58336931e-02, -8.65484104e-02,\n",
              "        1.54712960e-01,  6.56825602e-02,  1.60452262e-01,  3.26415189e-02,\n",
              "        1.67041108e-01, -6.96009025e-02, -4.04544115e-01,  1.82725847e-01,\n",
              "        1.25815064e-01,  1.28906474e-01,  3.04559559e-01,  3.68834823e-01,\n",
              "        1.51566386e-01,  1.85433939e-01, -1.36305764e-01, -4.64161187e-02,\n",
              "        3.45909186e-02,  2.67914683e-01, -5.38411252e-02,  6.85234889e-02,\n",
              "       -3.12610954e-01, -4.27005701e-02,  2.15638891e-01,  2.57913440e-01,\n",
              "       -2.70117253e-01,  2.02171907e-01, -1.74344018e-01,  1.39303133e-01,\n",
              "       -8.48611176e-04,  1.86423957e-01,  2.55875587e-01,  1.38845146e-01,\n",
              "       -4.27284956e-01,  1.38170883e-01,  3.35928984e-03,  1.59020409e-01,\n",
              "        1.09600322e-02, -4.06325817e-01, -3.74830477e-02,  5.68152130e-01,\n",
              "       -7.87988901e-02,  1.71169057e-01,  2.46919170e-01, -1.81505188e-01,\n",
              "        8.38257372e-02, -3.07411522e-01, -3.47374156e-02, -7.76947364e-02,\n",
              "        1.05753176e-01,  4.32713985e-01,  1.22351833e-02,  2.15879843e-01,\n",
              "       -2.41696462e-01, -7.66394660e-02, -3.51252705e-01,  7.04790950e-02,\n",
              "        3.10728252e-02, -1.09429769e-01,  4.80296761e-01, -4.89967316e-02,\n",
              "        4.11585093e-01,  8.20232704e-02,  6.78956881e-02, -2.56254762e-01,\n",
              "       -1.65395573e-01,  9.91582870e-03,  2.62714624e-01, -3.32486778e-01,\n",
              "       -3.36768739e-02,  3.85478288e-01, -3.93172130e-02, -2.83947378e-01,\n",
              "       -4.78026062e-01,  3.32100391e-01,  1.93673968e-01,  1.98942721e-02,\n",
              "        1.36228815e-01,  2.36816749e-01,  3.91382053e-02,  9.78376437e-03,\n",
              "        1.86804965e-01, -2.28617683e-01,  2.00075507e-01,  2.88431402e-02,\n",
              "       -7.63197318e-02,  2.05850959e-01,  2.68779188e-01,  2.29066536e-01,\n",
              "       -9.77471694e-02, -2.25924850e-01, -2.80330390e-01,  3.02773565e-01,\n",
              "       -2.51301676e-01, -4.72105294e-02,  1.85598090e-01, -1.25539124e-01,\n",
              "        6.57518268e-01, -1.23499252e-01,  3.35451812e-01, -2.65647154e-02,\n",
              "        1.01395391e-01,  2.65221205e-02,  3.46446298e-02,  8.24009702e-02,\n",
              "       -1.50374413e-01, -1.67749226e-01, -7.98229992e-01,  1.09918959e-01,\n",
              "        1.94141809e-02,  1.83301851e-01, -1.24104939e-01, -3.06853801e-01,\n",
              "       -1.39875412e-02,  1.34491369e-01, -9.31385234e-02, -1.47370607e-01,\n",
              "        1.23656623e-01,  2.41923198e-01, -2.09966168e-01, -1.97399616e-01,\n",
              "        2.33272955e-01, -1.02190435e-01,  2.61216849e-01,  8.10963959e-02,\n",
              "       -3.96929473e-01, -1.28448859e-01, -1.26028761e-01, -2.84500301e-01,\n",
              "       -8.06327760e-02, -2.44626045e-01,  1.48544654e-01,  2.46648584e-02,\n",
              "       -2.77837515e-01, -1.05090684e-03,  3.38860512e-01, -1.64932981e-01,\n",
              "        1.12957887e-01,  4.10099961e-02, -3.60142350e-01, -1.02335811e-02,\n",
              "        1.35133058e-01, -6.68407381e-02,  6.16774023e-01, -1.42406836e-01,\n",
              "       -3.39702874e-01, -2.75871605e-01, -1.52410597e-01, -1.65724307e-01,\n",
              "        4.24873084e-01,  2.33298600e-01,  5.51984608e-01,  1.61637262e-01,\n",
              "       -6.42982423e-02, -2.17245534e-01, -1.53973103e-01,  1.05305128e-01,\n",
              "       -1.23295248e-01, -2.82237440e-01, -2.06473649e-01, -1.12948762e-02,\n",
              "        1.27150670e-01,  1.66149437e-02, -1.08032726e-01,  4.34147090e-01,\n",
              "        3.17372710e-01,  3.15286785e-01,  3.63298543e-02, -1.04329862e-01,\n",
              "       -1.47138715e-01, -2.28330698e-02,  4.88247611e-02, -1.03958338e-01,\n",
              "        8.86405781e-02, -9.18223187e-02,  6.89822733e-02, -2.38248453e-01,\n",
              "        2.27424085e-01,  2.54526675e-01, -1.32419644e-02, -5.46841733e-02,\n",
              "        3.93822879e-01, -4.31289487e-02, -1.34648800e-01, -3.48894507e-01,\n",
              "        2.54460108e-02,  3.13303679e-01, -1.02256030e-01,  1.14016652e-01,\n",
              "        1.10204719e-01, -2.04683140e-01,  2.85669506e-01,  3.20554882e-01,\n",
              "        1.50704697e-01,  7.25092366e-02,  9.64793637e-02,  4.13103066e-02,\n",
              "        4.02019888e-01,  2.05412522e-01, -2.73814708e-01,  2.36849248e-01,\n",
              "        7.95789883e-02,  6.12217970e-02, -2.87118182e-02, -2.16714248e-01,\n",
              "       -1.31729335e-01,  1.15233600e-01,  4.45985705e-01, -6.62324652e-02,\n",
              "       -5.21412969e-01,  8.10789242e-02, -1.87072024e-01,  5.06527662e-01,\n",
              "        1.22739770e-01,  2.66386360e-01,  2.28370186e-02,  5.41893058e-02,\n",
              "        1.08924113e-01,  2.79761199e-02,  1.18922830e-01,  2.42492780e-01,\n",
              "        4.41892415e-01,  7.62561038e-02,  1.74477041e-01, -2.39388924e-02,\n",
              "        2.02808321e-01,  6.75266027e-01, -1.90986052e-01,  2.68309832e-01,\n",
              "        1.28269494e-01,  8.33902285e-02, -3.47154707e-01,  1.27202734e-01,\n",
              "        3.47367793e-01,  6.10235184e-02, -2.51502544e-01, -1.56338975e-01,\n",
              "       -2.55426735e-01, -1.18226260e-02, -7.70957246e-02,  1.38869867e-01,\n",
              "       -3.76536958e-02, -1.14710666e-01,  5.42009532e-01,  1.76310018e-01,\n",
              "       -3.00897169e-03, -2.07377449e-01, -2.51080364e-01, -1.31116048e-01,\n",
              "        4.99988317e-01, -3.69164944e-01, -4.70743626e-02, -6.33555710e-01,\n",
              "        1.44956067e-01,  2.06401005e-01, -4.85734940e-02, -9.74936262e-02,\n",
              "        4.68692690e-01, -5.04021168e-01, -6.45075217e-02,  3.79929282e-02,\n",
              "       -3.80155481e-02, -2.14411914e-01,  7.64826313e-02, -3.65254045e-01,\n",
              "        1.41834065e-01,  9.90382675e-03, -2.65504420e-02, -9.26884413e-02,\n",
              "       -2.09281489e-01, -6.32733107e-02,  7.15925470e-02,  5.55590987e-01,\n",
              "        2.05353573e-01, -9.34318453e-03, -1.04368575e-01,  4.54354435e-02,\n",
              "        1.63047418e-01,  1.23829104e-01, -2.78508365e-01, -3.83613743e-02,\n",
              "        8.98158327e-02,  2.84190089e-01, -8.38421583e-02,  3.54847878e-01,\n",
              "       -3.02547485e-01,  3.36331390e-02, -9.63757839e-03, -7.95160234e-02,\n",
              "       -3.83084267e-01, -2.51811951e-01,  6.80839829e-03, -5.59962168e-03,\n",
              "       -1.00224532e-01,  1.28102109e-01,  5.54138385e-02, -1.55255511e-01,\n",
              "       -2.04635143e-01, -6.31585792e-02, -2.51348048e-01,  3.10252905e-02,\n",
              "        1.86822429e-01,  1.46077856e-01, -2.92192966e-01,  9.53210592e-02,\n",
              "       -2.30383426e-02, -2.81825662e-02, -7.23814890e-02,  1.57260939e-01,\n",
              "        3.32830518e-01, -1.30052879e-01, -1.79172624e-02,  1.57725319e-01,\n",
              "        3.46736103e-01, -1.29671514e-01, -2.13574246e-01,  4.10769619e-02,\n",
              "       -2.12719161e-02, -1.41983747e-01, -1.31771475e-01,  6.95746318e-02,\n",
              "       -6.62466228e-01,  2.88640827e-01, -5.89863598e-01, -2.37270713e-01,\n",
              "        1.21832661e-01, -3.25785875e-01,  3.53130221e-01, -2.79073775e-01,\n",
              "        6.15370810e-01,  5.68964183e-02, -2.51358122e-01, -1.79897711e-01,\n",
              "        4.19192702e-01, -3.76262814e-01, -4.14842099e-01,  1.92380309e-01,\n",
              "       -4.05435085e-01,  2.24766836e-01, -2.22932845e-02, -4.21451300e-01,\n",
              "        7.37502575e-01,  4.05237436e-01, -1.50192410e-01, -1.68648046e-02,\n",
              "        5.24783552e-01,  2.92717963e-02, -3.36585306e-02, -5.72756715e-02,\n",
              "       -4.98183519e-01, -6.84028566e-02,  3.30422521e-01,  5.17185032e-01,\n",
              "        2.11974427e-01,  7.92874575e-01,  1.19582504e-01, -7.64205873e-01,\n",
              "       -2.71432549e-01, -3.00964206e-01, -7.95650110e-02, -2.88790781e-02,\n",
              "        1.30886734e-01, -1.53868183e-01, -1.08271621e-01, -3.36723000e-01,\n",
              "        2.77251065e-01,  1.41524091e-01, -1.81183115e-01, -3.29835534e-01,\n",
              "        3.92591730e-02, -2.80864835e-02, -2.27064326e-01, -5.06526947e-01,\n",
              "        4.81074661e-01,  5.51174693e-02,  1.65654108e-01,  1.74323678e-01,\n",
              "        1.31201493e-02, -1.02513032e-02, -1.99703142e-01, -6.69347262e-03,\n",
              "        2.96860069e-01,  6.88974559e-01, -3.27993929e-03,  3.84940356e-02,\n",
              "        4.64226037e-01,  4.19289619e-01,  4.68605191e-01,  3.48460585e-01,\n",
              "       -4.48410660e-01, -1.55285299e-01, -4.62053627e-01,  3.68166924e-01,\n",
              "       -3.22414339e-02, -4.23829071e-02,  2.00252473e-01, -4.05857973e-02,\n",
              "        2.35795081e-01,  5.31635396e-02, -1.10122681e-01, -1.05079142e-02,\n",
              "        3.72190587e-02,  3.05514455e-01, -2.60871857e-01,  2.27621481e-01,\n",
              "        1.03910983e-01,  2.67742395e-01,  1.85640857e-01,  4.68505830e-01,\n",
              "        5.13562895e-02, -2.94971634e-02,  7.63297081e-02, -9.02087167e-02,\n",
              "       -2.58084029e-01, -2.96989143e-01, -4.96813245e-02,  8.26226100e-02,\n",
              "        2.10732296e-01, -6.56561032e-02, -1.33181810e-02,  5.77768326e-01,\n",
              "        1.84649244e-01, -9.89337564e-02,  2.73673385e-01,  1.61383539e-01,\n",
              "        8.92563462e-02,  7.73402571e-04,  1.17463246e-02,  9.22629759e-02,\n",
              "       -9.05458108e-02,  7.43955448e-02, -3.33880931e-01,  8.41288194e-02,\n",
              "        2.29149997e-01, -2.60092735e-01, -1.78936660e-01,  1.94862902e-01,\n",
              "        1.86152816e-01,  9.83878151e-02, -2.46161565e-01, -3.94752175e-02,\n",
              "       -4.82388616e-01, -3.00420374e-01, -1.57422543e-01,  1.57701120e-01,\n",
              "        3.75449896e-01,  2.69010037e-01,  3.93764764e-01,  1.22525036e-01,\n",
              "        7.68249854e-02, -3.22661966e-01, -2.22535297e-01, -1.78070188e-01,\n",
              "        3.61043811e-01,  4.62126970e-01, -8.74446258e-02, -7.19961151e-02,\n",
              "       -6.57257764e-03, -3.15729007e-02,  2.04304695e-01, -1.17605925e-01,\n",
              "        2.70499587e-01,  3.12130719e-01, -9.83277559e-02, -2.49589253e-02,\n",
              "       -1.50426060e-01, -1.17538072e-01,  2.02110752e-01, -4.93575633e-02,\n",
              "        6.85575977e-02, -2.68748641e-01, -8.98696184e-02,  2.78751343e-01,\n",
              "        5.39558709e-01,  1.56114191e-01,  5.89160174e-02, -2.38216937e-01,\n",
              "        7.16320937e-03, -5.24316095e-02, -1.24368161e-01,  6.11648113e-02,\n",
              "        3.26065272e-01, -1.47357911e-01,  3.18530023e-01, -6.31944165e-02,\n",
              "       -4.92261164e-02,  6.03459170e-03,  7.34805524e-01,  5.68330944e-01,\n",
              "        2.23234698e-01,  3.26448441e-01, -2.33414188e-01, -5.20527251e-02,\n",
              "       -2.35736385e-01,  4.71851915e-01, -1.42172471e-01, -3.96118969e-01,\n",
              "       -3.12529892e-01,  2.11373568e-01,  3.55467796e-01, -5.80154598e-01,\n",
              "        6.78302124e-02, -1.92725897e-01, -3.59115124e-01,  6.26892447e-01,\n",
              "        1.25230655e-01, -1.45288810e-01, -3.90189849e-02,  1.31374478e-01,\n",
              "        1.63126841e-01, -1.13129258e-01,  1.06702894e-01,  3.63710642e-01,\n",
              "        6.06357992e-01, -2.74251759e-01, -3.92265171e-01, -4.72820885e-02,\n",
              "       -3.88700105e-02,  2.40792260e-01, -4.01488066e-01, -4.79724556e-01,\n",
              "        6.40869141e-01,  3.29381853e-01,  2.17998207e-01,  2.72632260e-02,\n",
              "        4.58329767e-01,  1.52109236e-01, -2.39047006e-01,  2.94271618e-01,\n",
              "        7.56050041e-03, -1.47028016e-02,  1.05788851e+00,  1.63284197e-01,\n",
              "       -2.50090063e-01,  2.78938621e-01,  7.52568245e-01, -2.71372229e-01,\n",
              "        2.02522576e-01, -1.34806618e-01,  2.73037311e-02,  9.55710411e-02,\n",
              "       -7.31827393e-02, -4.17401530e-02, -8.96066427e-02,  1.70732483e-01,\n",
              "        1.44719809e-01, -1.65774357e-02,  1.57708034e-01,  2.95506597e-01,\n",
              "       -2.52195090e-01, -3.21373940e-02, -2.90885895e-01, -1.55466989e-01,\n",
              "        2.20667660e-01,  1.91051085e-02,  9.29267704e-02,  4.67148215e-01,\n",
              "        9.04257819e-02,  2.94478927e-02, -2.50009447e-01,  3.48441564e-02,\n",
              "       -5.94477989e-02,  2.72780154e-02,  1.13796638e-02,  8.78967866e-02,\n",
              "        3.89716327e-02, -4.59563464e-01,  1.09695606e-01, -2.84921867e-03,\n",
              "        2.98774242e-01, -1.22278035e-01, -4.87630181e-02,  2.44766530e-02,\n",
              "        1.85304936e-02,  4.62542862e-01,  1.58902436e-01, -3.54191154e-01,\n",
              "       -1.97646067e-01, -2.68212352e-02,  1.38704255e-01, -9.91756991e-02,\n",
              "        8.05485249e-02, -7.50017837e-02,  1.28075080e-02, -3.71297449e-01,\n",
              "       -3.75813134e-02, -6.36366829e-02,  1.94665834e-01, -1.28275380e-01,\n",
              "        1.91777885e-01,  4.47322160e-01,  5.48934191e-03,  2.08326295e-01,\n",
              "        2.67959028e-01, -4.51704375e-02,  6.30146563e-02,  6.73642233e-02,\n",
              "       -1.37082040e-01,  2.62490749e-01,  3.63330245e-01, -6.41751587e-02,\n",
              "       -7.50510171e-02, -9.65859815e-02,  8.76859203e-02,  2.40588710e-01,\n",
              "       -2.71211773e-01, -2.75379807e-01, -1.13587417e-01, -2.79522929e-02,\n",
              "        6.34243265e-02,  1.68532908e-01,  6.83044195e-02,  3.68326277e-01,\n",
              "       -7.61643350e-02,  4.89536136e-01,  3.19990814e-01, -4.38230753e-01,\n",
              "       -8.32887113e-01,  4.24089544e-02,  3.55629995e-03,  9.67708752e-02,\n",
              "        6.20487072e-02,  3.42792988e-01,  5.68409972e-02,  7.56902024e-02,\n",
              "        2.34600127e-01,  2.58459061e-01,  1.18811436e-01,  2.39016771e-01,\n",
              "        7.38529265e-02, -2.92718619e-01,  7.38456026e-02, -1.48452878e-01,\n",
              "       -8.79142061e-02,  2.77577668e-01,  9.75393951e-02,  4.40865040e-01,\n",
              "        9.16604698e-02,  2.14990571e-01,  1.07913226e-01,  8.82249251e-02,\n",
              "        2.36013815e-01, -9.55023393e-02,  2.30897143e-01,  1.44644111e-01,\n",
              "       -3.61520141e-01, -1.52515918e-01,  3.73240523e-02,  2.01512024e-01,\n",
              "        4.25546288e-01,  1.10802380e-02,  3.31500262e-01, -1.91055238e-01,\n",
              "        7.05767348e-02,  4.28966552e-01,  4.34929617e-02, -1.99701026e-01,\n",
              "       -3.52592945e-01,  3.56693745e-01,  1.18712001e-01, -5.71498275e-01,\n",
              "       -9.75032449e-02,  1.23867452e-01,  5.41222990e-02, -2.04921141e-02,\n",
              "       -1.20252073e-01,  9.53386500e-02,  1.13545982e-02,  1.36275813e-01,\n",
              "       -5.19855805e-02, -1.32037714e-01,  2.28561461e-01,  6.38334975e-02,\n",
              "       -1.21040471e-01,  1.16701752e-01,  6.85187057e-02, -1.52161241e-01,\n",
              "        3.05589288e-01,  1.22297645e-01,  1.04515053e-01,  4.51254755e-01,\n",
              "       -3.39767843e-01,  3.08005005e-01,  2.70498171e-02, -1.16318539e-02,\n",
              "       -7.18526021e-02,  3.35038692e-01,  6.84136376e-02, -1.29192099e-01,\n",
              "        1.42449275e-01,  1.33393204e-03,  1.96139097e-01,  4.98554140e-01,\n",
              "        2.49281719e-01,  5.76803125e-02, -1.27563134e-01,  2.29652211e-01,\n",
              "       -3.74435067e-01,  4.65550274e-01,  6.08877055e-02, -1.43538058e-01,\n",
              "       -1.78140085e-02,  5.40387630e-02, -9.13890600e-02,  2.18834225e-02,\n",
              "        3.78657311e-01, -7.16347545e-02,  1.70432255e-01,  1.48130998e-01],\n",
              "      dtype=float32)"
            ]
          },
          "metadata": {},
          "execution_count": 14
        }
      ]
    },
    {
      "cell_type": "code",
      "source": [
        "torch.tensor(embeddings[0]).size()"
      ],
      "metadata": {
        "colab": {
          "base_uri": "https://localhost:8080/"
        },
        "id": "WZ-vC1TspHKx",
        "outputId": "9a8268b5-251c-433c-e98f-82f7f8e2ddd0"
      },
      "execution_count": null,
      "outputs": [
        {
          "output_type": "execute_result",
          "data": {
            "text/plain": [
              "torch.Size([768])"
            ]
          },
          "metadata": {},
          "execution_count": 15
        }
      ]
    },
    {
      "cell_type": "code",
      "source": [
        "model_embeddings = model.encode(sentences)\n",
        "model_embeddings"
      ],
      "metadata": {
        "colab": {
          "base_uri": "https://localhost:8080/"
        },
        "id": "mxwwY4XlpK1P",
        "outputId": "0d2e6fe2-5516-424b-beba-8c78ebbc4a5a"
      },
      "execution_count": null,
      "outputs": [
        {
          "output_type": "execute_result",
          "data": {
            "text/plain": [
              "array([[ 0.04552041, -0.11155832,  0.0964874 , ..., -0.07163475,\n",
              "         0.17043225,  0.148131  ],\n",
              "       [-0.06146888,  0.1577423 , -0.16066913, ...,  0.04836295,\n",
              "        -0.20426662,  0.30635697],\n",
              "       [-0.04903405,  0.11510581,  0.01049469, ..., -0.09953833,\n",
              "        -0.02165431,  0.44285995],\n",
              "       [-0.24567923,  0.19206475, -0.06068562, ...,  0.04219402,\n",
              "         0.04336961,  0.26665452],\n",
              "       [-0.0815338 , -0.16921446, -0.2472795 , ...,  0.13181147,\n",
              "        -0.04596098, -0.1183292 ],\n",
              "       [-0.117897  , -0.03193529,  0.03479276, ...,  0.04708387,\n",
              "        -0.1225488 ,  0.01275989]], dtype=float32)"
            ]
          },
          "metadata": {},
          "execution_count": 16
        }
      ]
    },
    {
      "cell_type": "code",
      "source": [
        "torch.tensor(model_embeddings).size()"
      ],
      "metadata": {
        "colab": {
          "base_uri": "https://localhost:8080/"
        },
        "id": "00RlysMZprGK",
        "outputId": "6e409bee-14e8-4d0b-f574-bbd2f6e7a45b"
      },
      "execution_count": null,
      "outputs": [
        {
          "output_type": "execute_result",
          "data": {
            "text/plain": [
              "torch.Size([6, 768])"
            ]
          },
          "metadata": {},
          "execution_count": 17
        }
      ]
    },
    {
      "cell_type": "code",
      "source": [
        "type(model_embeddings)"
      ],
      "metadata": {
        "colab": {
          "base_uri": "https://localhost:8080/"
        },
        "id": "YycKJ9KNpugW",
        "outputId": "7c36b996-8119-42dc-c44b-0f00be22ad81"
      },
      "execution_count": null,
      "outputs": [
        {
          "output_type": "execute_result",
          "data": {
            "text/plain": [
              "numpy.ndarray"
            ]
          },
          "metadata": {},
          "execution_count": 18
        }
      ]
    },
    {
      "cell_type": "code",
      "source": [
        "import sklearn\n",
        "from sklearn.metrics.pairwise import cosine_similarity "
      ],
      "metadata": {
        "id": "5xMbV-LlqJV_"
      },
      "execution_count": null,
      "outputs": []
    },
    {
      "cell_type": "markdown",
      "source": [
        "Let's calculate cosine similarity for sentence `0`:"
      ],
      "metadata": {
        "id": "ybPmKtaZqdsZ"
      }
    },
    {
      "cell_type": "code",
      "source": [
        "cosine_similarity([model_embeddings[0]],model_embeddings[1:])"
      ],
      "metadata": {
        "colab": {
          "base_uri": "https://localhost:8080/"
        },
        "id": "vLNET_vGqdBN",
        "outputId": "a5cf02ef-95d4-4fa7-c434-c8d9aaf9ab04"
      },
      "execution_count": null,
      "outputs": [
        {
          "output_type": "execute_result",
          "data": {
            "text/plain": [
              "array([[0.4300465 , 0.82831895, 0.4167831 , 0.3960988 , 0.5843199 ]],\n",
              "      dtype=float32)"
            ]
          },
          "metadata": {},
          "execution_count": 20
        }
      ]
    },
    {
      "cell_type": "code",
      "source": [
        "rdrsegmenter.tokenize(\"Chàng trai Nghệ An khởi nghiệp từ thịt chó.\")"
      ],
      "metadata": {
        "colab": {
          "base_uri": "https://localhost:8080/"
        },
        "id": "bZnaEelYqmy-",
        "outputId": "753eabeb-74b7-4287-c857-1e02489e281a"
      },
      "execution_count": null,
      "outputs": [
        {
          "output_type": "execute_result",
          "data": {
            "text/plain": [
              "[['Chàng', 'trai', 'Nghệ_An', 'khởi_nghiệp', 'từ', 'thịt', 'chó', '.']]"
            ]
          },
          "metadata": {},
          "execution_count": 21
        }
      ]
    },
    {
      "cell_type": "code",
      "source": [
        ""
      ],
      "metadata": {
        "id": "dlmdo_LHu-cB"
      },
      "execution_count": null,
      "outputs": []
    }
  ]
}